{
  "cells": [
    {
      "cell_type": "markdown",
      "metadata": {
        "colab_type": "text",
        "id": "view-in-github"
      },
      "source": [
        "<a href=\"https://colab.research.google.com/github/ivansst773/Aprendizaje_de_Maquina/blob/main/Parcial_2_TAM_2025_1/Parte_Practica/Parcial_2_TAM_2025_1.ipynb\" target=\"_parent\"><img src=\"https://colab.research.google.com/assets/colab-badge.svg\" alt=\"Open In Colab\"/></a>"
      ]
    },
    {
      "cell_type": "code",
      "execution_count": 2,
      "metadata": {
        "colab": {
          "base_uri": "https://localhost:8080/"
        },
        "id": "0a48c312",
        "outputId": "23bb564a-8e77-47d1-d09f-a502c2f5292d"
      },
      "outputs": [
        {
          "name": "stdout",
          "output_type": "stream",
          "text": [
            "Requirement already satisfied: dash in /workspaces/Aprendizaje_de_Maquina/.venv/lib/python3.11/site-packages (3.1.1)\n",
            "Requirement already satisfied: jupyter-dash in /workspaces/Aprendizaje_de_Maquina/.venv/lib/python3.11/site-packages (0.4.2)\n",
            "Requirement already satisfied: umap-learn in /workspaces/Aprendizaje_de_Maquina/.venv/lib/python3.11/site-packages (0.5.9.post2)\n",
            "Requirement already satisfied: plotly in /workspaces/Aprendizaje_de_Maquina/.venv/lib/python3.11/site-packages (6.2.0)\n",
            "Requirement already satisfied: scikit-learn in /workspaces/Aprendizaje_de_Maquina/.venv/lib/python3.11/site-packages (1.7.1)\n",
            "Requirement already satisfied: tensorflow in /workspaces/Aprendizaje_de_Maquina/.venv/lib/python3.11/site-packages (2.19.0)\n",
            "Requirement already satisfied: Flask<3.2,>=1.0.4 in /workspaces/Aprendizaje_de_Maquina/.venv/lib/python3.11/site-packages (from dash) (3.1.1)\n",
            "Requirement already satisfied: Werkzeug<3.2 in /workspaces/Aprendizaje_de_Maquina/.venv/lib/python3.11/site-packages (from dash) (3.1.3)\n",
            "Requirement already satisfied: importlib-metadata in /workspaces/Aprendizaje_de_Maquina/.venv/lib/python3.11/site-packages (from dash) (8.7.0)\n",
            "Requirement already satisfied: typing-extensions>=4.1.1 in /workspaces/Aprendizaje_de_Maquina/.venv/lib/python3.11/site-packages (from dash) (4.14.1)\n",
            "Requirement already satisfied: requests in /workspaces/Aprendizaje_de_Maquina/.venv/lib/python3.11/site-packages (from dash) (2.32.4)\n",
            "Requirement already satisfied: retrying in /workspaces/Aprendizaje_de_Maquina/.venv/lib/python3.11/site-packages (from dash) (1.4.1)\n",
            "Requirement already satisfied: nest-asyncio in /workspaces/Aprendizaje_de_Maquina/.venv/lib/python3.11/site-packages (from dash) (1.6.0)\n",
            "Requirement already satisfied: setuptools in /workspaces/Aprendizaje_de_Maquina/.venv/lib/python3.11/site-packages (from dash) (65.5.1)\n",
            "Requirement already satisfied: blinker>=1.9.0 in /workspaces/Aprendizaje_de_Maquina/.venv/lib/python3.11/site-packages (from Flask<3.2,>=1.0.4->dash) (1.9.0)\n",
            "Requirement already satisfied: click>=8.1.3 in /workspaces/Aprendizaje_de_Maquina/.venv/lib/python3.11/site-packages (from Flask<3.2,>=1.0.4->dash) (8.2.1)\n",
            "Requirement already satisfied: itsdangerous>=2.2.0 in /workspaces/Aprendizaje_de_Maquina/.venv/lib/python3.11/site-packages (from Flask<3.2,>=1.0.4->dash) (2.2.0)\n",
            "Requirement already satisfied: jinja2>=3.1.2 in /workspaces/Aprendizaje_de_Maquina/.venv/lib/python3.11/site-packages (from Flask<3.2,>=1.0.4->dash) (3.1.6)\n",
            "Requirement already satisfied: markupsafe>=2.1.1 in /workspaces/Aprendizaje_de_Maquina/.venv/lib/python3.11/site-packages (from Flask<3.2,>=1.0.4->dash) (3.0.2)\n",
            "Requirement already satisfied: ipython in /workspaces/Aprendizaje_de_Maquina/.venv/lib/python3.11/site-packages (from jupyter-dash) (9.4.0)\n",
            "Requirement already satisfied: ipykernel in /workspaces/Aprendizaje_de_Maquina/.venv/lib/python3.11/site-packages (from jupyter-dash) (6.30.0)\n",
            "Requirement already satisfied: ansi2html in /workspaces/Aprendizaje_de_Maquina/.venv/lib/python3.11/site-packages (from jupyter-dash) (1.9.2)\n",
            "Requirement already satisfied: numpy>=1.23 in /workspaces/Aprendizaje_de_Maquina/.venv/lib/python3.11/site-packages (from umap-learn) (2.1.3)\n",
            "Requirement already satisfied: scipy>=1.3.1 in /workspaces/Aprendizaje_de_Maquina/.venv/lib/python3.11/site-packages (from umap-learn) (1.16.0)\n",
            "Requirement already satisfied: numba>=0.51.2 in /workspaces/Aprendizaje_de_Maquina/.venv/lib/python3.11/site-packages (from umap-learn) (0.61.2)\n",
            "Requirement already satisfied: pynndescent>=0.5 in /workspaces/Aprendizaje_de_Maquina/.venv/lib/python3.11/site-packages (from umap-learn) (0.5.13)\n",
            "Requirement already satisfied: tqdm in /workspaces/Aprendizaje_de_Maquina/.venv/lib/python3.11/site-packages (from umap-learn) (4.67.1)\n",
            "Requirement already satisfied: narwhals>=1.15.1 in /workspaces/Aprendizaje_de_Maquina/.venv/lib/python3.11/site-packages (from plotly) (1.48.0)\n",
            "Requirement already satisfied: packaging in /workspaces/Aprendizaje_de_Maquina/.venv/lib/python3.11/site-packages (from plotly) (25.0)\n",
            "Requirement already satisfied: joblib>=1.2.0 in /workspaces/Aprendizaje_de_Maquina/.venv/lib/python3.11/site-packages (from scikit-learn) (1.5.1)\n",
            "Requirement already satisfied: threadpoolctl>=3.1.0 in /workspaces/Aprendizaje_de_Maquina/.venv/lib/python3.11/site-packages (from scikit-learn) (3.6.0)\n",
            "Requirement already satisfied: absl-py>=1.0.0 in /workspaces/Aprendizaje_de_Maquina/.venv/lib/python3.11/site-packages (from tensorflow) (2.3.1)\n",
            "Requirement already satisfied: astunparse>=1.6.0 in /workspaces/Aprendizaje_de_Maquina/.venv/lib/python3.11/site-packages (from tensorflow) (1.6.3)\n",
            "Requirement already satisfied: flatbuffers>=24.3.25 in /workspaces/Aprendizaje_de_Maquina/.venv/lib/python3.11/site-packages (from tensorflow) (25.2.10)\n",
            "Requirement already satisfied: gast!=0.5.0,!=0.5.1,!=0.5.2,>=0.2.1 in /workspaces/Aprendizaje_de_Maquina/.venv/lib/python3.11/site-packages (from tensorflow) (0.6.0)\n",
            "Requirement already satisfied: google-pasta>=0.1.1 in /workspaces/Aprendizaje_de_Maquina/.venv/lib/python3.11/site-packages (from tensorflow) (0.2.0)\n",
            "Requirement already satisfied: libclang>=13.0.0 in /workspaces/Aprendizaje_de_Maquina/.venv/lib/python3.11/site-packages (from tensorflow) (18.1.1)\n",
            "Requirement already satisfied: opt-einsum>=2.3.2 in /workspaces/Aprendizaje_de_Maquina/.venv/lib/python3.11/site-packages (from tensorflow) (3.4.0)\n",
            "Requirement already satisfied: protobuf!=4.21.0,!=4.21.1,!=4.21.2,!=4.21.3,!=4.21.4,!=4.21.5,<6.0.0dev,>=3.20.3 in /workspaces/Aprendizaje_de_Maquina/.venv/lib/python3.11/site-packages (from tensorflow) (5.29.5)\n",
            "Requirement already satisfied: six>=1.12.0 in /workspaces/Aprendizaje_de_Maquina/.venv/lib/python3.11/site-packages (from tensorflow) (1.17.0)\n",
            "Requirement already satisfied: termcolor>=1.1.0 in /workspaces/Aprendizaje_de_Maquina/.venv/lib/python3.11/site-packages (from tensorflow) (3.1.0)\n",
            "Requirement already satisfied: wrapt>=1.11.0 in /workspaces/Aprendizaje_de_Maquina/.venv/lib/python3.11/site-packages (from tensorflow) (1.17.2)\n",
            "Requirement already satisfied: grpcio<2.0,>=1.24.3 in /workspaces/Aprendizaje_de_Maquina/.venv/lib/python3.11/site-packages (from tensorflow) (1.73.1)\n",
            "Requirement already satisfied: tensorboard~=2.19.0 in /workspaces/Aprendizaje_de_Maquina/.venv/lib/python3.11/site-packages (from tensorflow) (2.19.0)\n",
            "Requirement already satisfied: keras>=3.5.0 in /workspaces/Aprendizaje_de_Maquina/.venv/lib/python3.11/site-packages (from tensorflow) (3.10.0)\n",
            "Requirement already satisfied: h5py>=3.11.0 in /workspaces/Aprendizaje_de_Maquina/.venv/lib/python3.11/site-packages (from tensorflow) (3.14.0)\n",
            "Requirement already satisfied: ml-dtypes<1.0.0,>=0.5.1 in /workspaces/Aprendizaje_de_Maquina/.venv/lib/python3.11/site-packages (from tensorflow) (0.5.1)\n",
            "Requirement already satisfied: tensorflow-io-gcs-filesystem>=0.23.1 in /workspaces/Aprendizaje_de_Maquina/.venv/lib/python3.11/site-packages (from tensorflow) (0.37.1)\n",
            "Requirement already satisfied: charset_normalizer<4,>=2 in /workspaces/Aprendizaje_de_Maquina/.venv/lib/python3.11/site-packages (from requests->dash) (3.4.2)\n",
            "Requirement already satisfied: idna<4,>=2.5 in /workspaces/Aprendizaje_de_Maquina/.venv/lib/python3.11/site-packages (from requests->dash) (3.10)\n",
            "Requirement already satisfied: urllib3<3,>=1.21.1 in /workspaces/Aprendizaje_de_Maquina/.venv/lib/python3.11/site-packages (from requests->dash) (2.5.0)\n",
            "Requirement already satisfied: certifi>=2017.4.17 in /workspaces/Aprendizaje_de_Maquina/.venv/lib/python3.11/site-packages (from requests->dash) (2025.7.14)\n",
            "Requirement already satisfied: markdown>=2.6.8 in /workspaces/Aprendizaje_de_Maquina/.venv/lib/python3.11/site-packages (from tensorboard~=2.19.0->tensorflow) (3.8.2)\n",
            "Requirement already satisfied: tensorboard-data-server<0.8.0,>=0.7.0 in /workspaces/Aprendizaje_de_Maquina/.venv/lib/python3.11/site-packages (from tensorboard~=2.19.0->tensorflow) (0.7.2)\n",
            "Requirement already satisfied: wheel<1.0,>=0.23.0 in /workspaces/Aprendizaje_de_Maquina/.venv/lib/python3.11/site-packages (from astunparse>=1.6.0->tensorflow) (0.45.1)\n",
            "Requirement already satisfied: rich in /workspaces/Aprendizaje_de_Maquina/.venv/lib/python3.11/site-packages (from keras>=3.5.0->tensorflow) (14.0.0)\n",
            "Requirement already satisfied: namex in /workspaces/Aprendizaje_de_Maquina/.venv/lib/python3.11/site-packages (from keras>=3.5.0->tensorflow) (0.1.0)\n",
            "Requirement already satisfied: optree in /workspaces/Aprendizaje_de_Maquina/.venv/lib/python3.11/site-packages (from keras>=3.5.0->tensorflow) (0.16.0)\n",
            "Requirement already satisfied: llvmlite<0.45,>=0.44.0dev0 in /workspaces/Aprendizaje_de_Maquina/.venv/lib/python3.11/site-packages (from numba>=0.51.2->umap-learn) (0.44.0)\n",
            "Requirement already satisfied: zipp>=3.20 in /workspaces/Aprendizaje_de_Maquina/.venv/lib/python3.11/site-packages (from importlib-metadata->dash) (3.23.0)\n",
            "Requirement already satisfied: comm>=0.1.1 in /workspaces/Aprendizaje_de_Maquina/.venv/lib/python3.11/site-packages (from ipykernel->jupyter-dash) (0.2.2)\n",
            "Requirement already satisfied: debugpy>=1.6.5 in /workspaces/Aprendizaje_de_Maquina/.venv/lib/python3.11/site-packages (from ipykernel->jupyter-dash) (1.8.15)\n",
            "Requirement already satisfied: jupyter-client>=8.0.0 in /workspaces/Aprendizaje_de_Maquina/.venv/lib/python3.11/site-packages (from ipykernel->jupyter-dash) (8.6.3)\n",
            "Requirement already satisfied: jupyter-core!=5.0.*,>=4.12 in /workspaces/Aprendizaje_de_Maquina/.venv/lib/python3.11/site-packages (from ipykernel->jupyter-dash) (5.8.1)\n",
            "Requirement already satisfied: matplotlib-inline>=0.1 in /workspaces/Aprendizaje_de_Maquina/.venv/lib/python3.11/site-packages (from ipykernel->jupyter-dash) (0.1.7)\n",
            "Requirement already satisfied: psutil>=5.7 in /workspaces/Aprendizaje_de_Maquina/.venv/lib/python3.11/site-packages (from ipykernel->jupyter-dash) (7.0.0)\n",
            "Requirement already satisfied: pyzmq>=25 in /workspaces/Aprendizaje_de_Maquina/.venv/lib/python3.11/site-packages (from ipykernel->jupyter-dash) (27.0.0)\n",
            "Requirement already satisfied: tornado>=6.2 in /workspaces/Aprendizaje_de_Maquina/.venv/lib/python3.11/site-packages (from ipykernel->jupyter-dash) (6.5.1)\n",
            "Requirement already satisfied: traitlets>=5.4.0 in /workspaces/Aprendizaje_de_Maquina/.venv/lib/python3.11/site-packages (from ipykernel->jupyter-dash) (5.14.3)\n",
            "Requirement already satisfied: decorator in /workspaces/Aprendizaje_de_Maquina/.venv/lib/python3.11/site-packages (from ipython->jupyter-dash) (5.2.1)\n",
            "Requirement already satisfied: ipython-pygments-lexers in /workspaces/Aprendizaje_de_Maquina/.venv/lib/python3.11/site-packages (from ipython->jupyter-dash) (1.1.1)\n",
            "Requirement already satisfied: jedi>=0.16 in /workspaces/Aprendizaje_de_Maquina/.venv/lib/python3.11/site-packages (from ipython->jupyter-dash) (0.19.2)\n",
            "Requirement already satisfied: pexpect>4.3 in /workspaces/Aprendizaje_de_Maquina/.venv/lib/python3.11/site-packages (from ipython->jupyter-dash) (4.9.0)\n",
            "Requirement already satisfied: prompt_toolkit<3.1.0,>=3.0.41 in /workspaces/Aprendizaje_de_Maquina/.venv/lib/python3.11/site-packages (from ipython->jupyter-dash) (3.0.51)\n",
            "Requirement already satisfied: pygments>=2.4.0 in /workspaces/Aprendizaje_de_Maquina/.venv/lib/python3.11/site-packages (from ipython->jupyter-dash) (2.19.2)\n",
            "Requirement already satisfied: stack_data in /workspaces/Aprendizaje_de_Maquina/.venv/lib/python3.11/site-packages (from ipython->jupyter-dash) (0.6.3)\n",
            "Requirement already satisfied: wcwidth in /workspaces/Aprendizaje_de_Maquina/.venv/lib/python3.11/site-packages (from prompt_toolkit<3.1.0,>=3.0.41->ipython->jupyter-dash) (0.2.13)\n",
            "Requirement already satisfied: parso<0.9.0,>=0.8.4 in /workspaces/Aprendizaje_de_Maquina/.venv/lib/python3.11/site-packages (from jedi>=0.16->ipython->jupyter-dash) (0.8.4)\n",
            "Requirement already satisfied: python-dateutil>=2.8.2 in /workspaces/Aprendizaje_de_Maquina/.venv/lib/python3.11/site-packages (from jupyter-client>=8.0.0->ipykernel->jupyter-dash) (2.9.0.post0)\n",
            "Requirement already satisfied: platformdirs>=2.5 in /workspaces/Aprendizaje_de_Maquina/.venv/lib/python3.11/site-packages (from jupyter-core!=5.0.*,>=4.12->ipykernel->jupyter-dash) (4.3.8)\n",
            "Requirement already satisfied: ptyprocess>=0.5 in /workspaces/Aprendizaje_de_Maquina/.venv/lib/python3.11/site-packages (from pexpect>4.3->ipython->jupyter-dash) (0.7.0)\n",
            "Requirement already satisfied: markdown-it-py>=2.2.0 in /workspaces/Aprendizaje_de_Maquina/.venv/lib/python3.11/site-packages (from rich->keras>=3.5.0->tensorflow) (3.0.0)\n",
            "Requirement already satisfied: mdurl~=0.1 in /workspaces/Aprendizaje_de_Maquina/.venv/lib/python3.11/site-packages (from markdown-it-py>=2.2.0->rich->keras>=3.5.0->tensorflow) (0.1.2)\n",
            "Requirement already satisfied: executing>=1.2.0 in /workspaces/Aprendizaje_de_Maquina/.venv/lib/python3.11/site-packages (from stack_data->ipython->jupyter-dash) (2.2.0)\n",
            "Requirement already satisfied: asttokens>=2.1.0 in /workspaces/Aprendizaje_de_Maquina/.venv/lib/python3.11/site-packages (from stack_data->ipython->jupyter-dash) (3.0.0)\n",
            "Requirement already satisfied: pure-eval in /workspaces/Aprendizaje_de_Maquina/.venv/lib/python3.11/site-packages (from stack_data->ipython->jupyter-dash) (0.2.3)\n"
          ]
        }
      ],
      "source": [
        "# Instalar dependencias en Colab\n",
        "!pip install dash jupyter-dash umap-learn plotly scikit-learn tensorflow"
      ]
    },
    {
      "cell_type": "code",
      "execution_count": 3,
      "metadata": {
        "id": "3ee4a2ef"
      },
      "outputs": [
        {
          "name": "stderr",
          "output_type": "stream",
          "text": [
            "2025-07-21 22:48:01.866123: I external/local_xla/xla/tsl/cuda/cudart_stub.cc:32] Could not find cuda drivers on your machine, GPU will not be used.\n",
            "2025-07-21 22:48:02.270736: I external/local_xla/xla/tsl/cuda/cudart_stub.cc:32] Could not find cuda drivers on your machine, GPU will not be used.\n",
            "2025-07-21 22:48:02.395075: E external/local_xla/xla/stream_executor/cuda/cuda_fft.cc:467] Unable to register cuFFT factory: Attempting to register factory for plugin cuFFT when one has already been registered\n",
            "WARNING: All log messages before absl::InitializeLog() is called are written to STDERR\n",
            "E0000 00:00:1753138083.005824   36626 cuda_dnn.cc:8579] Unable to register cuDNN factory: Attempting to register factory for plugin cuDNN when one has already been registered\n",
            "E0000 00:00:1753138083.054735   36626 cuda_blas.cc:1407] Unable to register cuBLAS factory: Attempting to register factory for plugin cuBLAS when one has already been registered\n",
            "W0000 00:00:1753138083.713901   36626 computation_placer.cc:177] computation placer already registered. Please check linkage and avoid linking the same target more than once.\n",
            "W0000 00:00:1753138083.713936   36626 computation_placer.cc:177] computation placer already registered. Please check linkage and avoid linking the same target more than once.\n",
            "W0000 00:00:1753138083.713940   36626 computation_placer.cc:177] computation placer already registered. Please check linkage and avoid linking the same target more than once.\n",
            "W0000 00:00:1753138083.713948   36626 computation_placer.cc:177] computation placer already registered. Please check linkage and avoid linking the same target more than once.\n",
            "2025-07-21 22:48:03.744478: I tensorflow/core/platform/cpu_feature_guard.cc:210] This TensorFlow binary is optimized to use available CPU instructions in performance-critical operations.\n",
            "To enable the following instructions: AVX2 FMA, in other operations, rebuild TensorFlow with the appropriate compiler flags.\n",
            "/workspaces/Aprendizaje_de_Maquina/.venv/lib/python3.11/site-packages/tqdm/auto.py:21: TqdmWarning: IProgress not found. Please update jupyter and ipywidgets. See https://ipywidgets.readthedocs.io/en/stable/user_install.html\n",
            "  from .autonotebook import tqdm as notebook_tqdm\n"
          ]
        }
      ],
      "source": [
        "# Importar bibliotecas\n",
        "from dash import Dash, dcc, html, Input, Output\n",
        "from jupyter_dash import JupyterDash\n",
        "import plotly.express as px\n",
        "import plotly.graph_objects as go\n",
        "import numpy as np\n",
        "import pandas as pd\n",
        "from sklearn.datasets import load_digits\n",
        "from sklearn.decomposition import PCA\n",
        "from sklearn.model_selection import train_test_split\n",
        "from sklearn.linear_model import LogisticRegression\n",
        "from sklearn.ensemble import RandomForestClassifier\n",
        "from sklearn.metrics import classification_report, roc_curve, auc\n",
        "from tensorflow.keras.models import Sequential\n",
        "from tensorflow.keras.layers import Conv2D, MaxPooling2D, Flatten, Dense, Dropout\n",
        "import umap\n",
        "import base64\n",
        "from io import BytesIO\n",
        "from PIL import Image"
      ]
    },
    {
      "cell_type": "code",
      "execution_count": 4,
      "metadata": {
        "id": "b625d66b"
      },
      "outputs": [],
      "source": [
        "# Cargar y preprocesar datos USPS\n",
        "digits = load_digits()\n",
        "X, y = digits.data / 255.0, digits.target  # Normalizar\n",
        "images = digits.images  # Para superponer imágenes\n",
        "X_train, X_test, y_train, y_test = train_test_split(X, y, test_size=0.2, random_state=42)"
      ]
    },
    {
      "cell_type": "code",
      "execution_count": 5,
      "metadata": {
        "colab": {
          "base_uri": "https://localhost:8080/"
        },
        "id": "683189f9",
        "outputId": "c92353d7-4ac2-479e-cdf2-6a8ef921d940"
      },
      "outputs": [
        {
          "name": "stderr",
          "output_type": "stream",
          "text": [
            "/workspaces/Aprendizaje_de_Maquina/.venv/lib/python3.11/site-packages/umap/umap_.py:1952: UserWarning: n_jobs value 1 overridden to 1 by setting random_state. Use no seed for parallelism.\n",
            "  warn(\n"
          ]
        }
      ],
      "source": [
        "# Proyecciones PCA y UMAP\n",
        "pca = PCA(n_components=2)\n",
        "X_pca = pca.fit_transform(X)\n",
        "\n",
        "umap_model = umap.UMAP(n_components=2, n_neighbors=15, random_state=42)\n",
        "X_umap = umap_model.fit_transform(X)"
      ]
    },
    {
      "cell_type": "code",
      "execution_count": 6,
      "metadata": {
        "colab": {
          "base_uri": "https://localhost:8080/"
        },
        "id": "cf080042",
        "outputId": "d187ab7a-0d79-4ca2-ef60-b4f1920c58c8"
      },
      "outputs": [
        {
          "name": "stderr",
          "output_type": "stream",
          "text": [
            "/workspaces/Aprendizaje_de_Maquina/.venv/lib/python3.11/site-packages/sklearn/linear_model/_logistic.py:1272: FutureWarning: 'multi_class' was deprecated in version 1.5 and will be removed in 1.7. From then on, it will always use 'multinomial'. Leave it to its default value to avoid this warning.\n",
            "  warnings.warn(\n",
            "/workspaces/Aprendizaje_de_Maquina/.venv/lib/python3.11/site-packages/keras/src/layers/convolutional/base_conv.py:113: UserWarning: Do not pass an `input_shape`/`input_dim` argument to a layer. When using Sequential models, prefer using an `Input(shape)` object as the first layer in the model instead.\n",
            "  super().__init__(activity_regularizer=activity_regularizer, **kwargs)\n",
            "2025-07-21 22:48:34.384498: E external/local_xla/xla/stream_executor/cuda/cuda_platform.cc:51] failed call to cuInit: INTERNAL: CUDA error: Failed call to cuInit: UNKNOWN ERROR (303)\n"
          ]
        },
        {
          "name": "stdout",
          "output_type": "stream",
          "text": [
            "\u001b[1m12/12\u001b[0m \u001b[32m━━━━━━━━━━━━━━━━━━━━\u001b[0m\u001b[37m\u001b[0m \u001b[1m0s\u001b[0m 5ms/step \n"
          ]
        },
        {
          "name": "stderr",
          "output_type": "stream",
          "text": [
            "WARNING:absl:You are saving your model as an HDF5 file via `model.save()` or `keras.saving.save_model(model)`. This file format is considered legacy. We recommend using instead the native Keras format, e.g. `model.save('my_model.keras')` or `keras.saving.save_model(model, 'my_model.keras')`. \n"
          ]
        }
      ],
      "source": [
        "def train_classifiers(X_train, X_test, y_train, y_test):\n",
        "    # 1. LogisticRegression\n",
        "    lr = LogisticRegression(C=1.0, multi_class='multinomial', solver='lbfgs', max_iter=1000)\n",
        "    lr.fit(X_train, y_train)\n",
        "    y_pred_lr = lr.predict(X_test)\n",
        "    report_lr = classification_report(y_test, y_pred_lr, output_dict=True)\n",
        "\n",
        "    # 2. RandomForestClassifier\n",
        "    rf = RandomForestClassifier(n_estimators=100, max_depth=10, random_state=42)\n",
        "    rf.fit(X_train, y_train)\n",
        "    y_pred_rf = rf.predict(X_test)\n",
        "    report_rf = classification_report(y_test, y_pred_rf, output_dict=True)\n",
        "\n",
        "    # 3. CNN\n",
        "    X_train_cnn = X_train.reshape(-1, 8, 8, 1)\n",
        "    X_test_cnn = X_test.reshape(-1, 8, 8, 1)\n",
        "    model = Sequential([\n",
        "        Conv2D(32, (3, 3), activation='relu', input_shape=(8, 8, 1)),\n",
        "        MaxPooling2D((2, 2)),\n",
        "        Conv2D(64, (3, 3), activation='relu'),\n",
        "        Flatten(),\n",
        "        Dense(128, activation='relu'),\n",
        "        Dropout(0.5),\n",
        "        Dense(10, activation='softmax')\n",
        "    ])\n",
        "    model.compile(optimizer='adam', loss='sparse_categorical_crossentropy', metrics=['accuracy'])\n",
        "    model.fit(X_train_cnn, y_train, epochs=10, batch_size=32, verbose=0)\n",
        "    y_pred_cnn = model.predict(X_test_cnn).argmax(axis=1)\n",
        "    report_cnn = classification_report(y_test, y_pred_cnn, output_dict=True)\n",
        "\n",
        "    # Guardar el modelo CNN\n",
        "    model.save(\"modelo_dl.h5\")\n",
        "\n",
        "    return lr, report_lr, rf, report_rf, model, report_cnn\n",
        "\n",
        "lr, report_lr, rf, report_rf, cnn_model, report_cnn = train_classifiers(X_train, X_test, y_train, y_test)"
      ]
    }
  ],
  "metadata": {
    "colab": {
      "include_colab_link": true,
      "provenance": []
    },
    "kernelspec": {
      "display_name": ".venv",
      "language": "python",
      "name": "python3"
    },
    "language_info": {
      "codemirror_mode": {
        "name": "ipython",
        "version": 3
      },
      "file_extension": ".py",
      "mimetype": "text/x-python",
      "name": "python",
      "nbconvert_exporter": "python",
      "pygments_lexer": "ipython3",
      "version": "3.11.13"
    }
  },
  "nbformat": 4,
  "nbformat_minor": 0
}
