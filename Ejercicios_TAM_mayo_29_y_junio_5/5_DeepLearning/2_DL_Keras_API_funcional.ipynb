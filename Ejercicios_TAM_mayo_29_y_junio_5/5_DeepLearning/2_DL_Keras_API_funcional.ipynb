{
  "nbformat": 4,
  "nbformat_minor": 0,
  "metadata": {
    "colab": {
      "provenance": [],
      "gpuType": "T4",
      "include_colab_link": true
    },
    "kernelspec": {
      "name": "python3",
      "display_name": "Python 3"
    },
    "accelerator": "GPU"
  },
  "cells": [
    {
      "cell_type": "markdown",
      "metadata": {
        "id": "view-in-github",
        "colab_type": "text"
      },
      "source": [
        "<a href=\"https://colab.research.google.com/github/ivansst773/Aprendizaje_de_Maquina/blob/main/Ejercicios_TAM_mayo_29_y_junio_5/5_DeepLearning/2_DL_Keras_API_funcional.ipynb\" target=\"_parent\"><img src=\"https://colab.research.google.com/assets/colab-badge.svg\" alt=\"Open In Colab\"/></a>"
      ]
    },
    {
      "cell_type": "markdown",
      "metadata": {
        "id": "O47Jrm_NPVav"
      },
      "source": [
        "# Creación de arquitecturas de aprendizaje profundo mediante API funcional de Keras.\n",
        "\n",
        "- Se presentan los consideraciones básicas respecto a la [API funcional de Keras](https://keras.io/guides/functional_api/) para la implementación de modelos de redes profundas con TensorFlow.\n",
        "\n"
      ]
    },
    {
      "cell_type": "code",
      "metadata": {
        "id": "4d58EKYuBaWp"
      },
      "source": [
        "import tensorflow as tf #importar tensorflow\n",
        "print(tf.__version__)"
      ],
      "execution_count": null,
      "outputs": []
    },
    {
      "cell_type": "markdown",
      "metadata": {
        "id": "_115DWTKPyN4"
      },
      "source": [
        "- Se utilizará la base de datos Fashion Mnist nuevamente, normalizando las imágenes de 0 a 1."
      ]
    },
    {
      "cell_type": "code",
      "metadata": {
        "id": "IIH98kIYLp9D"
      },
      "source": [
        "train, test = tf.keras.datasets.fashion_mnist.load_data()\n",
        "images, labels = train"
      ],
      "execution_count": null,
      "outputs": []
    },
    {
      "cell_type": "markdown",
      "metadata": {
        "id": "r1e1mWxaP_Ay"
      },
      "source": [
        "- Se presenta un ejemplo de la base de datos"
      ]
    },
    {
      "cell_type": "code",
      "metadata": {
        "id": "H8Z0VG9dOQ5X"
      },
      "source": [
        "import matplotlib.pyplot as plt\n",
        "plt.imshow(images[5000,:,:],cmap= 'binary')\n",
        "plt.show()"
      ],
      "execution_count": null,
      "outputs": []
    },
    {
      "cell_type": "code",
      "metadata": {
        "id": "AZK6zKgQOYjC"
      },
      "source": [
        "import numpy as np\n",
        "print(np.unique(labels)) #etiquetas\n",
        "print(images.shape) #tamaño de las imágenes"
      ],
      "execution_count": null,
      "outputs": []
    },
    {
      "cell_type": "code",
      "metadata": {
        "id": "E_IxEbq7Pi-j"
      },
      "source": [
        "Xtrain, ytrain = train\n",
        "Xtrain = Xtrain/255 # tipo flotante, normalizados de 0 a 1\n",
        "Xtest, ytest = test\n",
        "Xtest = Xtest/255 # tipo flotante, normalizados de 0 a 1"
      ],
      "execution_count": null,
      "outputs": []
    },
    {
      "cell_type": "markdown",
      "metadata": {
        "id": "ML0rc-CtQUNZ"
      },
      "source": [
        "- En el cuaderno introductorio a redes neuronales con tensorflow se planteó la construcción de modelos mediante secuencia de capas:"
      ]
    },
    {
      "cell_type": "code",
      "metadata": {
        "id": "AGjPUneLO81Z"
      },
      "source": [
        "#definir arquitectura secuencial\n",
        "model = tf.keras.models.Sequential([\n",
        "    tf.keras.layers.Flatten(input_shape=(Xtrain.shape[1],Xtrain.shape[2])),\n",
        "    tf.keras.layers.Dense(200,activation=\"relu\", name='red1'),\n",
        "    tf.keras.layers.Dense(50, activation=\"tanh\",name='hred2'),\n",
        "    tf.keras.layers.Dense(10,activation='softmax',name='output')\n",
        "])\n",
        "\n",
        "model.summary() # resumen del modelo\n",
        "tf.keras.utils.plot_model(model) #diagrama del modelo"
      ],
      "execution_count": null,
      "outputs": []
    },
    {
      "cell_type": "markdown",
      "metadata": {
        "id": "Wb1kJpU5Qg-h"
      },
      "source": [
        "- Aunque la implementacióm mediante secuencia es intuitiva, no permite realizar conexiones flexibles entre capas.\n",
        "\n",
        "- En ese sentido, Keras permite crear capas bajo el principio de funciones y argumentos, como se muestra a continuación.\n",
        "\n",
        "**Nota**: a diferencia de la estructura secuencial, en la API funcional se debe indicar la capa o capas de entrada y la capa o capas de salida para crear el grafo computacional de forma apropiada."
      ]
    },
    {
      "cell_type": "code",
      "metadata": {
        "id": "C5z1QP3KQbgH"
      },
      "source": [
        "#arquitectura funcional\n",
        "#capa de entrada\n",
        "input_l = tf.keras.layers.Input(shape=(Xtrain.shape[1],Xtrain.shape[2]), name='entrada')\n",
        "#capa de aplanamiento de las imágenes\n",
        "flatten = tf.keras.layers.Flatten(input_shape=(Xtrain.shape[1],Xtrain.shape[2]))(input_l)#argumento de entrada\n",
        "#capas densas\n",
        "h1 = tf.keras.layers.Dense(200,activation='tanh',name='h1')(flatten)#argumento de entrada\n",
        "h2 = tf.keras.layers.Dense(50,activation='tanh',name='h2')(h1)\n",
        "#capa de salida\n",
        "output = tf.keras.layers.Dense(10,activation=\"softmax\",name='output')(h2)\n",
        "#crear modelo según conexiones tipo funcionales\n",
        "model_fun = tf.keras.Model(inputs=input_l,outputs=output)\n",
        "\n",
        "#resumen y gráfica del modelo\n",
        "model_fun.summary()\n",
        "tf.keras.utils.plot_model(model_fun)\n"
      ],
      "execution_count": null,
      "outputs": []
    },
    {
      "cell_type": "markdown",
      "metadata": {
        "id": "7QGmICK83p__"
      },
      "source": [
        "# La API funcional permite realizar conexiones más flexibles\n",
        "\n",
        "- En el siguiente ejemplo se crea un modelo con una entrada y dos salidas con interconexiones flexibles:"
      ]
    },
    {
      "cell_type": "code",
      "metadata": {
        "id": "S0D9MaQUUC5S"
      },
      "source": [
        "#arquitectura funcional 2\n",
        "tf.keras.backend.clear_session()\n",
        "input_l = tf.keras.layers.Input(shape=(Xtrain.shape[1],Xtrain.shape[2]), name='entrada')\n",
        "flatten = tf.keras.layers.Flatten(input_shape=(Xtrain.shape[1],Xtrain.shape[2]))(input_l)\n",
        "\n",
        "h1 = tf.keras.layers.Dense(200,activation='tanh',name='h1')(flatten)\n",
        "h2 = tf.keras.layers.Dense(50,activation='tanh',name='h2')(h1)\n",
        "#capa que concatena caracterísitacas extraídas en h2 con imágenes de entrada\n",
        "concat = tf.keras.layers.concatenate([h2,flatten])\n",
        "#se crean dos salidas:\n",
        "output_A = tf.keras.layers.Dense(10,activation=\"softmax\",name='outputA')(concat)#desde concatenación\n",
        "output_B = tf.keras.layers.Dense(10,activation=\"softmax\",name='outputB')(h2)#desde h2\n",
        "#las entradas y salidas se ingresan como listas\n",
        "model_fun = tf.keras.Model(inputs=input_l,outputs=[output_A, output_B])\n",
        "#model_fun.summary()\n",
        "tf.keras.utils.plot_model(model_fun)"
      ],
      "execution_count": null,
      "outputs": []
    },
    {
      "cell_type": "markdown",
      "metadata": {
        "id": "tgCBNFKlRh7S"
      },
      "source": [
        "**Nota**: si se cuenta con varias salidas se puede definir un mismo costo para cada salida, o una lista con los costos requeridos. Además, en la lista `loss_weights` se puede especificar el valor del peso asociado al costo de cada salida en el intervalo [0,1]."
      ]
    },
    {
      "cell_type": "code",
      "metadata": {
        "id": "fqRy7EUlWe8W"
      },
      "source": [
        "model_fun.compile(loss=\"sparse_categorical_crossentropy\", #custom_loss(),#custom_loss(),#\"sparse_categorical_crossentropy\",\n",
        "              optimizer=\"Adam\",\n",
        "              metrics=[\"accuracy\",\"accuracy\"]) #f1, precision, recall, crossentropy\n"
      ],
      "execution_count": null,
      "outputs": []
    },
    {
      "cell_type": "markdown",
      "metadata": {
        "id": "3G5VnJpYZJ-d"
      },
      "source": [
        "- El entrenamiento se realiza de igual forma al utilizado con el modelo secuencial.\n",
        "\n",
        "- Como se fijaron dos salidas, se debe ingresar una lista para los argumentos ytrain."
      ]
    },
    {
      "cell_type": "code",
      "metadata": {
        "id": "6O_7oCxbYmgG"
      },
      "source": [
        "history = model_fun.fit(Xtrain, [ytrain,ytrain] , epochs=10,batch_size=64, # 32, 64, 128, 256\n",
        "                    validation_split=0.3) # se fija el conjunto de validación como el 20% del de train"
      ],
      "execution_count": null,
      "outputs": []
    },
    {
      "cell_type": "markdown",
      "metadata": {
        "id": "CIkCfKwAZRG_"
      },
      "source": [
        "- Se presentan las curvas de desempeño:"
      ]
    },
    {
      "cell_type": "code",
      "metadata": {
        "id": "eKQn2C8nY3wR"
      },
      "source": [
        "import pandas as pd\n",
        "\n",
        "pd.DataFrame(history.history).plot(figsize=(8, 5))\n",
        "plt.grid(True)\n",
        "plt.gca().set_ylim(0, 1)\n",
        "#save_fig(\"keras_learning_curves_plot\")\n",
        "plt.show()"
      ],
      "execution_count": null,
      "outputs": []
    },
    {
      "cell_type": "markdown",
      "metadata": {
        "id": "DhSy80mGZVoY"
      },
      "source": [
        "- Como el modelo generado presenta dos salidas, el rendimiento se discrimina por cada salida y el acumulado.\n",
        "\n",
        "- A la hora de predecir la salida para una nueva muestra, se debe tener en cuenta la cantidad de salidas fijadas."
      ]
    },
    {
      "cell_type": "code",
      "metadata": {
        "id": "gKsIK96KZPpi"
      },
      "source": [
        "yestA,yestB = model_fun.predict(Xtest)\n",
        "print(yestA.shape,yestB.shape)#salidas tipo 1 -K probabilidad de membresia a cada clase"
      ],
      "execution_count": null,
      "outputs": []
    },
    {
      "cell_type": "code",
      "metadata": {
        "id": "R8RBO0NNaJdK"
      },
      "source": [
        "print(yestA[0].argmax(),ytest[0])#para estimar la etiqueta ordinal se encuentra el max por columnas"
      ],
      "execution_count": null,
      "outputs": []
    },
    {
      "cell_type": "code",
      "metadata": {
        "id": "RuKDvDJtabCQ"
      },
      "source": [
        "scoreA = model_fun.evaluate(Xtest,[ytest,ytest])#evaluacion\n",
        "print(scoreA)"
      ],
      "execution_count": null,
      "outputs": []
    },
    {
      "cell_type": "markdown",
      "metadata": {
        "id": "jR9fa_JS3wiR"
      },
      "source": [
        "# Grafiquemos los pesos respecto a las dimensiones de la imagen original"
      ]
    },
    {
      "cell_type": "code",
      "metadata": {
        "id": "voOY0whlaKWf"
      },
      "source": [
        "#se busca identificar las entradas más relevantes para la red\n",
        "plt.imshow(abs(model.layers[1].get_weights()[0]).sum(axis=1).reshape(28,28))\n",
        "plt.colorbar()\n",
        "plt.show()"
      ],
      "execution_count": null,
      "outputs": []
    },
    {
      "cell_type": "code",
      "metadata": {
        "id": "GDoNdsXwa1Qa"
      },
      "source": [
        "model.layers[1].get_weights()[1].shape # accediendo a los bias"
      ],
      "execution_count": null,
      "outputs": []
    },
    {
      "cell_type": "markdown",
      "metadata": {
        "id": "1XVwO-Q_3uoJ"
      },
      "source": [
        "# Salidas parciales de la red\n",
        "\n",
        "- La estrategia funcional nos permite acceder a partes intermedias de la red para encontrar mapas de características y verificar el aprendizaje de la representación."
      ]
    },
    {
      "cell_type": "code",
      "metadata": {
        "id": "ztzzh2ggcs59"
      },
      "source": [
        "#crear nuevo modelo con salida parcial\n",
        "model_B = tf.keras.Model(inputs=model_fun.inputs,outputs=model_fun.get_layer('h2').output) #se accede a capas por nombre\n",
        "tf.keras.utils.plot_model(model_B) # modelo ya esta ajustado!\n"
      ],
      "execution_count": null,
      "outputs": []
    },
    {
      "cell_type": "code",
      "metadata": {
        "id": "B_F5ldNl4B8B"
      },
      "source": [
        "z = model_B.predict(Xtest) # salida en h2\n",
        "z.shape"
      ],
      "execution_count": null,
      "outputs": []
    },
    {
      "cell_type": "markdown",
      "metadata": {
        "id": "mdorTICc39Op"
      },
      "source": [
        "### Dado que se fijaron 50 unidades, se pueden utilizar técnicas de reducción de dimensión para visualizar los patrones intermedios de la red en 2D.\n",
        "\n",
        "\n",
        "# Principal Component Analysis (PCA)\n",
        "\n",
        "Reducción de dimensión lineal basado en la preservación de la varianza\n",
        "\n",
        "![PCA1](https://www.soloentendidos.com/wp-content/uploads/2021/06/Principal-Component-Analysis-second-principal_thumb-1.gif)\n",
        "\n",
        "\n",
        "![PCA2](https://1.bp.blogspot.com/-pgMAHiIWvuw/Tql5HIXNdRI/AAAAAAAABLI/I2zPF5cLRwQ/s1600/clust.gif)\n",
        "\n",
        "\n",
        "# t-student distributed Stochastic Neighbor Embedding (t-SNE)\n",
        "\n",
        "Reducción de dimensión basado en la preservación de localidades (vecinos) utilizando medidas de información desde estimación no paramétrica de probabilidad en el espación de alta y baja dimensión, respectivamente.\n",
        "\n",
        "![tsne](https://learnopencv.com/wp-content/uploads/2022/11/tsne.gif)\n",
        "\n",
        "![tsne2](https://3.bp.blogspot.com/-NE01azL_JxU/Wxli17oYNzI/AAAAAAAACxQ/axOI2yy-Ft0QbqaekOyemm5Xn0wAFvRUwCLcBGAs/s640/image2.gif)"
      ]
    },
    {
      "cell_type": "code",
      "metadata": {
        "id": "5SbDU2ue4UTi"
      },
      "source": [
        "from sklearn.decomposition import PCA\n",
        "zpca = PCA(n_components=2).fit_transform(z)\n",
        "zpca.shape"
      ],
      "execution_count": null,
      "outputs": []
    },
    {
      "cell_type": "code",
      "metadata": {
        "id": "Xz4TtdMu6S_M"
      },
      "source": [
        "plt.scatter(zpca[:,0],zpca[:,1],c=ytest)\n",
        "plt.colorbar()\n",
        "plt.xlabel('componente 1')\n",
        "plt.ylabel('componente 2')\n",
        "plt.title('PCA atributos extraídos en capa h2')\n",
        "plt.show()"
      ],
      "execution_count": null,
      "outputs": []
    },
    {
      "cell_type": "code",
      "metadata": {
        "id": "TUPQ3fy_6iCF"
      },
      "source": [
        "#plot mnist 2D\n",
        "from matplotlib.offsetbox import OffsetImage, AnnotationBbox\n",
        "def plot_mnist_2d(Z,y,images,img_w=28,img_h=28,zoom=0.5,cmap='jet'):\n",
        "    fig, ax = plt.subplots(figsize=(16,10))\n",
        "    for i in range(Z.shape[0]):\n",
        "        #print('img',i+1,'/',Z.shape[0])\n",
        "        image = images[i].reshape((img_w, img_h))\n",
        "        im = OffsetImage(image, zoom=zoom,cmap=cmap)\n",
        "        ab = AnnotationBbox(im, (Z[i,0], Z[i,1]), xycoords='data', frameon=False)\n",
        "        ax.add_artist(ab)\n",
        "        ax.update_datalim([(Z[i,0], Z[i,1])])\n",
        "        ax.autoscale()"
      ],
      "execution_count": null,
      "outputs": []
    },
    {
      "cell_type": "markdown",
      "metadata": {
        "id": "LDRcBMOlbjHD"
      },
      "source": [
        "- También, podemos revisar la distribución de las imágenes en el espacio proyectado:"
      ]
    },
    {
      "cell_type": "code",
      "metadata": {
        "id": "bmtPGNsp6pI-"
      },
      "source": [
        "Ni =4000 # graficar Ni muestras como imagenes en espacio 2D\n",
        "ind = np.random.randint(0,ytest.shape[0],Ni)\n",
        "plot_mnist_2d(zpca[ind],ytest[ind],Xtest[ind],img_w=28,img_h=28,zoom=0.5,cmap='binary')\n",
        "plt.xlabel('componente 1')\n",
        "plt.ylabel('componente 2')\n",
        "plt.title('PCA atributos extraídos en capa h2')"
      ],
      "execution_count": null,
      "outputs": []
    },
    {
      "cell_type": "markdown",
      "metadata": {
        "id": "cA5nkj4HbyKB"
      },
      "source": [
        "# Ejercicio:\n",
        "\n",
        "- Grafique el espacio proyectado de PCA en 2D (etiquetas e imágenes) para los atributos aprendidos por la capa de concatenación.\n",
        "\n",
        "- Repita el proceso aplicando la técnica de reducción de dimensión [UMAP de RAPIDS](https://developer.nvidia.com/blog/even-faster-and-more-scalable-umap-on-the-gpu-with-rapids-cuml/).\n",
        "\n",
        "- Plantee una nueva arquitectura tipo funcional utilizando capas convolucionales (Ver cuaderno [CNNs](https://github.com/amalvarezme/AprendizajeMaquina/blob/main/5_DeepLearning/3_Introduccion_CNN.ipynb)) para el entrenamiento de la base de datos Mnist-digitos, utilizando tres entradas: i) imágenes limpias, ii) y iii) imágenes con ruido blanco Gaussiano ante diferentes varianzas, y dos salidas i) estimación del digito, ii) estimación número par número impar."
      ]
    },
    {
      "cell_type": "code",
      "metadata": {
        "id": "Ot0hgm216udN"
      },
      "source": [
        "#Ayuda de código:\n",
        "#cargar fashion mnist o mnist\n",
        "#(X_train, y_train), (X_test, y_test) = keras.datasets.fashion_mnist.load_data()\n",
        "(X_train, y_train), (X_test, y_test) = tf.keras.datasets.mnist.load_data()\n",
        "X_train, X_valid = X_train[:-55000], X_train[-55000:]\n",
        "y_train, y_valid = y_train[:-55000], y_train[-55000:]\n",
        "\n",
        "X_train = X_train[..., np.newaxis]/255.\n",
        "X_valid = X_valid[..., np.newaxis]/255.\n",
        "X_test = X_test[..., np.newaxis]/255.\n",
        "print(X_train.shape,X_valid.shape,X_test.shape)"
      ],
      "execution_count": null,
      "outputs": []
    },
    {
      "cell_type": "code",
      "metadata": {
        "id": "GucYaiCQduwy"
      },
      "source": [
        "#crear entradas con y sin ruido\n",
        "from sklearn.preprocessing import MinMaxScaler\n",
        "\n",
        "var_ = [0.01,0.25]\n",
        "inputs_train = [X_train]\n",
        "inputs_valid = [X_valid]\n",
        "inputs_test = [X_test]\n",
        "\n",
        "#recorrer varianzas\n",
        "for var_i in var_:\n",
        "    dim = X_train.shape\n",
        "    #definir ruido\n",
        "    tmp = X_train + (np.sqrt(var_i)*np.random.randn(X_train.shape[0],dim[1],dim[2],dim[3]))\n",
        "    tmp = MinMaxScaler().fit_transform(tmp.reshape(dim[0],-1).T).T #fijar señal con ruido de 0 a 1\n",
        "    inputs_train += [tmp.reshape(dim)]\n",
        "\n",
        "    dim = X_valid.shape\n",
        "    tmp = X_valid + (np.sqrt(var_i)*np.random.randn(X_valid.shape[0],dim[1],dim[2],dim[3]))\n",
        "    tmp = MinMaxScaler().fit_transform(tmp.reshape(dim[0],-1).T).T\n",
        "    inputs_valid += [tmp.reshape(dim)]\n",
        "\n",
        "    dim = X_test.shape\n",
        "    tmp = X_test + (np.sqrt(var_i)*np.random.randn(X_test.shape[0],dim[1],dim[2],dim[3]))\n",
        "    tmp = MinMaxScaler().fit_transform(tmp.reshape(dim[0],-1).T).T\n",
        "    inputs_test += [tmp.reshape(dim)]\n",
        "\n",
        "\n",
        "plt.imshow(np.c_[inputs_train[0][0,:,:,0],inputs_train[1][0,:,:,0],inputs_train[2][0,:,:,0]])\n",
        "plt.axis('off')\n",
        "plt.colorbar()\n",
        "plt.show()"
      ],
      "execution_count": null,
      "outputs": []
    },
    {
      "cell_type": "code",
      "metadata": {
        "id": "Gj71cQCIeXen"
      },
      "source": [
        "#veector de salida par o impar\n",
        "ytrain_B = (y_train % 2)\n",
        "print(ytrain_B[10:])\n",
        "print(y_train[10:])"
      ],
      "execution_count": null,
      "outputs": []
    },
    {
      "cell_type": "code",
      "metadata": {
        "id": "incuTjIbfKj5"
      },
      "source": [
        "#arquitectura funcional 2 - Ayuda de código con capas densas - cambiar a capas cnn\n",
        "tf.keras.backend.clear_session()\n",
        "input_1 = tf.keras.layers.Input(shape=(Xtrain.shape[1],Xtrain.shape[2]), name='entrada_1')\n",
        "input_2 = tf.keras.layers.Input(shape=(Xtrain.shape[1],Xtrain.shape[2]), name='entrada_2')\n",
        "input_3 = tf.keras.layers.Input(shape=(Xtrain.shape[1],Xtrain.shape[2]), name='entrada_3')\n",
        "\n",
        "flatten_1 = tf.keras.layers.Flatten(input_shape=(Xtrain.shape[1],Xtrain.shape[2]))(input_1)\n",
        "flatten_2 = tf.keras.layers.Flatten(input_shape=(Xtrain.shape[1],Xtrain.shape[2]))(input_2)\n",
        "flatten_3 = tf.keras.layers.Flatten(input_shape=(Xtrain.shape[1],Xtrain.shape[2]))(input_3)\n",
        "\n",
        "h1_1 = tf.keras.layers.Dense(200,activation='tanh',name='h1_1')(flatten_1)\n",
        "h2_1 = tf.keras.layers.Dense(50,activation='tanh',name='h2_1')(h1_1)\n",
        "\n",
        "h1_2 = tf.keras.layers.Dense(200,activation='tanh',name='h1_2')(flatten_2)\n",
        "h2_2 = tf.keras.layers.Dense(50,activation='tanh',name='h2_2')(h1_2)\n",
        "\n",
        "h1_3 = tf.keras.layers.Dense(200,activation='tanh',name='h1_3')(flatten_3)\n",
        "h2_3 = tf.keras.layers.Dense(50,activation='tanh',name='h2_3')(h1_3)\n",
        "\n",
        "#capa que concatena caracterísitacas extraídas en h2 con imágenes de entrada\n",
        "concat = tf.keras.layers.concatenate([h2_1,h2_2,h2_3])\n",
        "#se crean dos salidas:\n",
        "output_d = tf.keras.layers.Dense(10,activation=\"softmax\",name='output_d')(concat)#desde concatenación\n",
        "output_p = tf.keras.layers.Dense(1,activation=\"sigmoid\",name='output_p')(concat)#desde h2\n",
        "#las entradas y salidas se ingresan como listas\n",
        "model_fun2 = tf.keras.Model(inputs=[input_1,input_2,input_3],outputs=[output_d, output_p])\n",
        "#model_fun.summary()\n",
        "tf.keras.utils.plot_model(model_fun2)"
      ],
      "execution_count": null,
      "outputs": []
    },
    {
      "cell_type": "code",
      "metadata": {
        "id": "tgwWR-2DsScZ"
      },
      "source": [
        "#Entrenar y ajustar el modelo, revisar rendimientos en cada salida"
      ],
      "execution_count": null,
      "outputs": []
    },
    {
      "cell_type": "code",
      "source": [],
      "metadata": {
        "id": "Y5_ulHQthOka"
      },
      "execution_count": null,
      "outputs": []
    }
  ]
}