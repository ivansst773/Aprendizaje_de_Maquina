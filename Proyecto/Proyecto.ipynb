{
  "nbformat": 4,
  "nbformat_minor": 0,
  "metadata": {
    "colab": {
      "provenance": [],
      "include_colab_link": true
    },
    "kernelspec": {
      "name": "python3",
      "display_name": "Python 3"
    },
    "language_info": {
      "name": "python"
    }
  },
  "cells": [
    {
      "cell_type": "markdown",
      "metadata": {
        "id": "view-in-github",
        "colab_type": "text"
      },
      "source": [
        "<a href=\"https://colab.research.google.com/github/ivansst773/Aprendizaje_de_Maquina/blob/main/Proyecto/Proyecto.ipynb\" target=\"_parent\"><img src=\"https://colab.research.google.com/assets/colab-badge.svg\" alt=\"Open In Colab\"/></a>"
      ]
    },
    {
      "cell_type": "code",
      "source": [
        "!pip install fpdf"
      ],
      "metadata": {
        "colab": {
          "base_uri": "https://localhost:8080/"
        },
        "id": "vDzjY9zSLqIA",
        "outputId": "6a6dc34a-f0f3-4f6f-f073-588462797332"
      },
      "execution_count": null,
      "outputs": [
        {
          "output_type": "stream",
          "name": "stdout",
          "text": [
            "Collecting fpdf\n",
            "  Downloading fpdf-1.7.2.tar.gz (39 kB)\n",
            "  Preparing metadata (setup.py) ... \u001b[?25l\u001b[?25hdone\n",
            "Building wheels for collected packages: fpdf\n",
            "  Building wheel for fpdf (setup.py) ... \u001b[?25l\u001b[?25hdone\n",
            "  Created wheel for fpdf: filename=fpdf-1.7.2-py2.py3-none-any.whl size=40704 sha256=bf857828b1306a2811602dc5fad78db9cdb02d393d8fe58b267b1c3d64fc978d\n",
            "  Stored in directory: /root/.cache/pip/wheels/65/4f/66/bbda9866da446a72e206d6484cd97381cbc7859a7068541c36\n",
            "Successfully built fpdf\n",
            "Installing collected packages: fpdf\n",
            "Successfully installed fpdf-1.7.2\n"
          ]
        }
      ]
    },
    {
      "cell_type": "markdown",
      "source": [
        "conectar tu Google Drive:\n"
      ],
      "metadata": {
        "id": "71ioqkqry_gi"
      }
    },
    {
      "cell_type": "code",
      "source": [
        "from google.colab import drive\n",
        "drive.mount('/content/drive')"
      ],
      "metadata": {
        "colab": {
          "base_uri": "https://localhost:8080/"
        },
        "id": "LkbxTlclmZXP",
        "outputId": "d1ead703-5766-47d0-fb30-ec0825f1f5b4"
      },
      "execution_count": null,
      "outputs": [
        {
          "output_type": "stream",
          "name": "stdout",
          "text": [
            "Mounted at /content/drive\n"
          ]
        }
      ]
    },
    {
      "cell_type": "markdown",
      "source": [
        "descomprimir todos los archivos dentro del ZIP"
      ],
      "metadata": {
        "id": "2jk_PwFfy5kr"
      }
    },
    {
      "cell_type": "code",
      "source": [
        "import zipfile\n",
        "import os\n",
        "\n",
        "ruta_zip = \"/content/drive/MyDrive/Semestre2025_1/Teoria de aprendizaje de maquina /a-comprehensive-dataset-of-pattern-electroretinograms-for-ocular-electrophysiology-research-the-perg-ioba-dataset-1.0.0.zip\"\n",
        "ruta_destino = \"/content/perg-ioba-dataset/\"  # Carpeta de extracción\n",
        "\n",
        "# Extraer el archivo ZIP\n",
        "with zipfile.ZipFile(ruta_zip, 'r') as zip_ref:\n",
        "    zip_ref.extractall(ruta_destino)\n",
        "\n",
        "print(\"Archivos extraídos en:\", ruta_destino)\n",
        "print(os.listdir(ruta_destino))  # Verifica los archivos dentro de la carpeta extraída"
      ],
      "metadata": {
        "colab": {
          "base_uri": "https://localhost:8080/"
        },
        "id": "TE5kCxYZvWIM",
        "outputId": "fcf30b3e-51f5-47e8-d3b7-8791bb0b8100"
      },
      "execution_count": null,
      "outputs": [
        {
          "output_type": "stream",
          "name": "stdout",
          "text": [
            "Archivos extraídos en: /content/perg-ioba-dataset/\n",
            "['a-comprehensive-dataset-of-pattern-electroretinograms-for-ocular-electrophysiology-research-the-perg-ioba-dataset-1.0.0']\n"
          ]
        }
      ]
    },
    {
      "cell_type": "markdown",
      "source": [
        "procesa archivos CSV de mediciones PERG y les asigna un identificador (id_record) basado en el nombre del archivo.\n",
        "\n",
        "📌 Resultado:\n",
        "\n",
        "✅ Cada archivo CSV se convierte en un DataFrame con su información de medición y su identificador único (id_record).\n",
        "\n",
        "✅ Permite unir todos los datos en df_mediciones para su análisis posterior.\n"
      ],
      "metadata": {
        "id": "QUbogvi6vIpM"
      }
    },
    {
      "cell_type": "code",
      "source": [
        "dataframes = []\n",
        "for file in csv_files:\n",
        "    if \"participants_info\" in file:  # Excluir el archivo de información de participantes\n",
        "        continue\n",
        "\n",
        "    id_record = os.path.basename(file).split(\".\")[0]  # Extraer ID desde el nombre del archivo\n",
        "    df = pd.read_csv(file)\n",
        "    df[\"id_record\"] = int(id_record)  # Asignar ID al dataset\n",
        "    dataframes.append(df)"
      ],
      "metadata": {
        "id": "izIeJnjklMBd"
      },
      "execution_count": null,
      "outputs": []
    },
    {
      "cell_type": "markdown",
      "source": [
        "Este código fusiona todos los DataFrames en un único dataset (df_mediciones) y verifica la asignación de id_record y valores faltantes (NaN).\n"
      ],
      "metadata": {
        "id": "lC0vwTax1AKl"
      }
    },
    {
      "cell_type": "code",
      "source": [
        "# Unir todos los DataFrames en un solo dataset\n",
        "df_mediciones = pd.concat(dataframes, ignore_index=True)\n",
        "\n",
        "# Revisar si id_record está correctamente asignado\n",
        "print(\"Primeras filas después de asignar id_record:\")\n",
        "print(df_mediciones.head())\n",
        "\n",
        "print(\"\\nConteo de valores NaN en df_mediciones:\")\n",
        "print(df_mediciones.isna().sum())"
      ],
      "metadata": {
        "colab": {
          "base_uri": "https://localhost:8080/"
        },
        "id": "gHEaFHNsmJBh",
        "outputId": "6d0049f9-a810-44fd-c637-e12cea1fdc5e"
      },
      "execution_count": null,
      "outputs": [
        {
          "output_type": "stream",
          "name": "stdout",
          "text": [
            "Primeras filas después de asignar id_record:\n",
            "                     TIME_1  RE_1  LE_1  id_record TIME_2  RE_2  LE_2 TIME_3  \\\n",
            "0  2004-12-11 10:12:50.0000   0.0   0.0         71    NaN   NaN   NaN    NaN   \n",
            "1  2004-12-11 10:12:50.0006  -0.1  -0.1         71    NaN   NaN   NaN    NaN   \n",
            "2  2004-12-11 10:12:50.0012  -0.3  -0.2         71    NaN   NaN   NaN    NaN   \n",
            "3  2004-12-11 10:12:50.0018  -0.2  -0.3         71    NaN   NaN   NaN    NaN   \n",
            "4  2004-12-11 10:12:50.0024  -0.3  -0.3         71    NaN   NaN   NaN    NaN   \n",
            "\n",
            "   RE_3  LE_3 TIME_4  RE_4  LE_4 TIME_5  RE_5  LE_5  \n",
            "0   NaN   NaN    NaN   NaN   NaN    NaN   NaN   NaN  \n",
            "1   NaN   NaN    NaN   NaN   NaN    NaN   NaN   NaN  \n",
            "2   NaN   NaN    NaN   NaN   NaN    NaN   NaN   NaN  \n",
            "3   NaN   NaN    NaN   NaN   NaN    NaN   NaN   NaN  \n",
            "4   NaN   NaN    NaN   NaN   NaN    NaN   NaN   NaN  \n",
            "\n",
            "Conteo de valores NaN en df_mediciones:\n",
            "TIME_1           0\n",
            "RE_1             0\n",
            "LE_1             0\n",
            "id_record        0\n",
            "TIME_2       12495\n",
            "RE_2         12495\n",
            "LE_2         12495\n",
            "TIME_3       73695\n",
            "RE_3         73695\n",
            "LE_3         73695\n",
            "TIME_4       84150\n",
            "RE_4         84150\n",
            "LE_4         84150\n",
            "TIME_5       85425\n",
            "RE_5         85425\n",
            "LE_5         85425\n",
            "dtype: int64\n"
          ]
        }
      ]
    },
    {
      "cell_type": "markdown",
      "source": [
        "📍 Próximo paso: Fusionar df_mediciones con df_info utilizando id_record\n",
        "Ejecuta esto para unir los datos de medición con la información clínica:\n"
      ],
      "metadata": {
        "id": "d72G_J3DmkNF"
      }
    },
    {
      "cell_type": "code",
      "source": [
        "df_completo = df_mediciones.merge(df_info, on=\"id_record\", how=\"left\")\n",
        "\n",
        "print(\"Datos combinados correctamente:\")\n",
        "print(df_completo.head())\n",
        "\n",
        "print(\"\\nConteo de valores NaN en df_completo:\")\n",
        "print(df_completo.isna().sum())"
      ],
      "metadata": {
        "colab": {
          "base_uri": "https://localhost:8080/"
        },
        "id": "jvigwJh3mffA",
        "outputId": "c7e1a60d-aa9a-48e0-ec47-ee9511b4a660"
      },
      "execution_count": null,
      "outputs": [
        {
          "output_type": "stream",
          "name": "stdout",
          "text": [
            "Datos combinados correctamente:\n",
            "                     TIME_1  RE_1  LE_1  id_record TIME_2  RE_2  LE_2 TIME_3  \\\n",
            "0  2004-12-11 10:12:50.0000   0.0   0.0         71    NaN   NaN   NaN    NaN   \n",
            "1  2004-12-11 10:12:50.0006  -0.1  -0.1         71    NaN   NaN   NaN    NaN   \n",
            "2  2004-12-11 10:12:50.0012  -0.3  -0.2         71    NaN   NaN   NaN    NaN   \n",
            "3  2004-12-11 10:12:50.0018  -0.2  -0.3         71    NaN   NaN   NaN    NaN   \n",
            "4  2004-12-11 10:12:50.0024  -0.3  -0.3         71    NaN   NaN   NaN    NaN   \n",
            "\n",
            "   RE_3  LE_3 TIME_4  RE_4  LE_4 TIME_5  RE_5  LE_5        date  age_years  \\\n",
            "0   NaN   NaN    NaN   NaN   NaN    NaN   NaN   NaN  2004-12-11         52   \n",
            "1   NaN   NaN    NaN   NaN   NaN    NaN   NaN   NaN  2004-12-11         52   \n",
            "2   NaN   NaN    NaN   NaN   NaN    NaN   NaN   NaN  2004-12-11         52   \n",
            "3   NaN   NaN    NaN   NaN   NaN    NaN   NaN   NaN  2004-12-11         52   \n",
            "4   NaN   NaN    NaN   NaN   NaN    NaN   NaN   NaN  2004-12-11         52   \n",
            "\n",
            "      sex diagnosis1 diagnosis2 diagnosis3  va_re_logMar  va_le_logMar  \\\n",
            "0  Female     Normal        NaN        NaN          0.12           0.1   \n",
            "1  Female     Normal        NaN        NaN          0.12           0.1   \n",
            "2  Female     Normal        NaN        NaN          0.12           0.1   \n",
            "3  Female     Normal        NaN        NaN          0.12           0.1   \n",
            "4  Female     Normal        NaN        NaN          0.12           0.1   \n",
            "\n",
            "  unilateral rep_record                                     comments  \n",
            "0        NaN    Id:0157  Alteration in visual acuity. ERG alteration  \n",
            "1        NaN    Id:0157  Alteration in visual acuity. ERG alteration  \n",
            "2        NaN    Id:0157  Alteration in visual acuity. ERG alteration  \n",
            "3        NaN    Id:0157  Alteration in visual acuity. ERG alteration  \n",
            "4        NaN    Id:0157  Alteration in visual acuity. ERG alteration  \n",
            "\n",
            "Conteo de valores NaN en df_completo:\n",
            "TIME_1              0\n",
            "RE_1                0\n",
            "LE_1                0\n",
            "id_record           0\n",
            "TIME_2          12495\n",
            "RE_2            12495\n",
            "LE_2            12495\n",
            "TIME_3          73695\n",
            "RE_3            73695\n",
            "LE_3            73695\n",
            "TIME_4          84150\n",
            "RE_4            84150\n",
            "LE_4            84150\n",
            "TIME_5          85425\n",
            "RE_5            85425\n",
            "LE_5            85425\n",
            "date                0\n",
            "age_years           0\n",
            "sex                 0\n",
            "diagnosis1          0\n",
            "diagnosis2      62730\n",
            "diagnosis3      82365\n",
            "va_re_logMar     4845\n",
            "va_le_logMar     4845\n",
            "unilateral      83640\n",
            "rep_record      71655\n",
            "comments        61455\n",
            "dtype: int64\n"
          ]
        }
      ]
    },
    {
      "cell_type": "markdown",
      "source": [
        "cuenta cuántos pacientes tienen todas sus mediciones PERG como NaN, lo que significa que no tienen datos de respuesta electrofisiológica registrados.\n"
      ],
      "metadata": {
        "id": "aG8bFngK1SqC"
      }
    },
    {
      "cell_type": "code",
      "source": [
        "print(\"Número de pacientes con todas las mediciones PERG como NaN:\",\n",
        "      df_completo[df_completo[[\"RE_1\", \"LE_1\", \"RE_2\", \"LE_2\", \"RE_3\", \"LE_3\", \"RE_4\", \"LE_4\", \"RE_5\", \"LE_5\"]].isna().all(axis=1)].shape[0])"
      ],
      "metadata": {
        "colab": {
          "base_uri": "https://localhost:8080/"
        },
        "id": "temTXIm5nEjr",
        "outputId": "bb4edce1-37a2-4142-9c27-6f6705c1a224"
      },
      "execution_count": null,
      "outputs": [
        {
          "output_type": "stream",
          "name": "stdout",
          "text": [
            "Número de pacientes con todas las mediciones PERG como NaN: 0\n"
          ]
        }
      ]
    },
    {
      "cell_type": "markdown",
      "source": [
        "Revisar diagnosis2 y diagnosis3\n",
        "Primero, ejecuta esto para ver cuáles son los valores más comunes en estas columnas:\n"
      ],
      "metadata": {
        "id": "8X5naTPvoBoN"
      }
    },
    {
      "cell_type": "code",
      "source": [
        "print(\"Valores únicos en diagnosis2:\")\n",
        "print(df_completo[\"diagnosis2\"].value_counts())\n",
        "\n",
        "print(\"\\nValores únicos en diagnosis3:\")\n",
        "print(df_completo[\"diagnosis3\"].value_counts())"
      ],
      "metadata": {
        "colab": {
          "base_uri": "https://localhost:8080/"
        },
        "id": "SIeFo13Hn8ti",
        "outputId": "b090f8bf-044e-4eb5-99d1-121940082792"
      },
      "execution_count": null,
      "outputs": [
        {
          "output_type": "stream",
          "name": "stdout",
          "text": [
            "Valores únicos en diagnosis2:\n",
            "diagnosis2\n",
            "Inflammatory disease                                             5610\n",
            "Central areolar choroidal dystrophy                              2040\n",
            "Stargardt disease                                                1785\n",
            "Systemic disorder with ocular manifestations                     1785\n",
            "Congenital abnormality of the retina                             1785\n",
            "Periferina                                                       1530\n",
            "Vitelliform macular dystrophy                                    1020\n",
            "Usher syndrome                                                    765\n",
            "Dominant drusen                                                   765\n",
            "Posterior Uveitis                                                 510\n",
            "Fundus flavimaculatus                                             510\n",
            "14q32 deletion: Systemic disorder with ocular manifestations      255\n",
            "Bietti's Crystalline Corneoretinal Dystrophy                      255\n",
            "Sorsby Fundus Dystrophy                                           255\n",
            "Benign concentric annular macular dystrophy                       255\n",
            "Cone-Rod dystrophy                                                255\n",
            "Bitemporal hemianopsia by acrylamide poisoning                    255\n",
            "Reticular dystrophy                                               255\n",
            "Speckled retinal pigment epithelium                               255\n",
            "Chloroquine poisoning                                             255\n",
            "Macular hole                                                      255\n",
            "Pattern macular dystrophy                                         255\n",
            "Central nervous system toxicity                                   255\n",
            "Down's Syndrome                                                   255\n",
            "Alport syndrome: Systemic disorder with ocular manifestations     255\n",
            "Retinal astrocytic hamartoma                                      255\n",
            "Sectorial-Rodopsina                                               255\n",
            "Glaucoma                                                          255\n",
            "Retinal vein occlusion                                            255\n",
            "Trichromacy                                                       255\n",
            "Name: count, dtype: int64\n",
            "\n",
            "Valores únicos en diagnosis3:\n",
            "diagnosis3\n",
            "Fundus flavimaculatus              1785\n",
            "Inflammatory disease                510\n",
            "Oculocutaneous albinism             255\n",
            "Mild amblyopia LE by endophoria     255\n",
            "Kearns-Sayre syndrome               255\n",
            "Bourneville disease                 255\n",
            "Name: count, dtype: int64\n"
          ]
        }
      ]
    },
    {
      "cell_type": "markdown",
      "source": [
        "Si prefieres rellenar con \"Desconocido\"\n"
      ],
      "metadata": {
        "id": "4aORVCt7rLAd"
      }
    },
    {
      "cell_type": "markdown",
      "source": [
        "Este código limpia los valores faltantes (NaN) en las columnas diagnosis2 y diagnosis3, reemplazándolos por \"Desconocido\".\n"
      ],
      "metadata": {
        "id": "kmL-9YI61jWD"
      }
    },
    {
      "cell_type": "code",
      "source": [
        "df_completo = df_completo.copy()  # Asegurar que estamos modificando el DataFrame original\n",
        "\n",
        "df_completo[\"diagnosis2\"] = df_completo[\"diagnosis2\"].fillna(\"Desconocido\")\n",
        "df_completo[\"diagnosis3\"] = df_completo[\"diagnosis3\"].fillna(\"Desconocido\")"
      ],
      "metadata": {
        "id": "jLpRSapfrCXV"
      },
      "execution_count": null,
      "outputs": []
    },
    {
      "cell_type": "markdown",
      "source": [
        "Este código cuenta cuántos registros tienen valores NaN en las columnas unilateral, rep_record y comments.\n"
      ],
      "metadata": {
        "id": "g_l-PpBx1qS1"
      }
    },
    {
      "cell_type": "code",
      "source": [
        "print(\"Número de registros con NaN en unilateral:\", df_completo[\"unilateral\"].isna().sum())\n",
        "print(\"Número de registros con NaN en rep_record:\", df_completo[\"rep_record\"].isna().sum())\n",
        "print(\"Número de registros con NaN en comments:\", df_completo[\"comments\"].isna().sum())"
      ],
      "metadata": {
        "colab": {
          "base_uri": "https://localhost:8080/"
        },
        "id": "2fEjGdlprefW",
        "outputId": "4a9b1cec-027e-4c88-8765-438cc82c8623"
      },
      "execution_count": null,
      "outputs": [
        {
          "output_type": "stream",
          "name": "stdout",
          "text": [
            "Número de registros con NaN en unilateral: 83640\n",
            "Número de registros con NaN en rep_record: 71655\n",
            "Número de registros con NaN en comments: 61455\n"
          ]
        }
      ]
    },
    {
      "cell_type": "markdown",
      "source": [
        "Este código elimina valores NaN en las columnas unilateral, rep_record y comments, reemplazándolos con \"Desconocido\".\n"
      ],
      "metadata": {
        "id": "A4ra5NZo1z8_"
      }
    },
    {
      "cell_type": "code",
      "source": [
        "df_completo = df_completo.copy()  # Asegurar que estamos modificando el DataFrame original\n",
        "\n",
        "df_completo[\"unilateral\"] = df_completo[\"unilateral\"].fillna(\"Desconocido\")\n",
        "df_completo[\"rep_record\"] = df_completo[\"rep_record\"].fillna(\"Desconocido\")\n",
        "df_completo[\"comments\"] = df_completo[\"comments\"].fillna(\"Desconocido\")"
      ],
      "metadata": {
        "id": "1F1fb2rtrng3"
      },
      "execution_count": null,
      "outputs": []
    },
    {
      "cell_type": "markdown",
      "source": [
        "Este código proporciona un resumen detallado del dataset df_completo y estadísticas de las mediciones PERG.\n"
      ],
      "metadata": {
        "id": "8pOWnnZb2B6B"
      }
    },
    {
      "cell_type": "code",
      "source": [
        "print(\"Resumen del dataset:\")\n",
        "print(df_completo.info())\n",
        "\n",
        "print(\"\\nEstadísticas de las mediciones:\")\n",
        "print(df_completo.describe())"
      ],
      "metadata": {
        "colab": {
          "base_uri": "https://localhost:8080/"
        },
        "id": "Q-bPHrQ9sKFP",
        "outputId": "87b86eee-c11a-4f58-a4dd-c91efc313859"
      },
      "execution_count": null,
      "outputs": [
        {
          "output_type": "stream",
          "name": "stdout",
          "text": [
            "Resumen del dataset:\n",
            "<class 'pandas.core.frame.DataFrame'>\n",
            "RangeIndex: 85680 entries, 0 to 85679\n",
            "Data columns (total 27 columns):\n",
            " #   Column        Non-Null Count  Dtype  \n",
            "---  ------        --------------  -----  \n",
            " 0   TIME_1        85680 non-null  object \n",
            " 1   RE_1          85680 non-null  float64\n",
            " 2   LE_1          85680 non-null  float64\n",
            " 3   id_record     85680 non-null  int64  \n",
            " 4   TIME_2        73185 non-null  object \n",
            " 5   RE_2          73185 non-null  float64\n",
            " 6   LE_2          73185 non-null  float64\n",
            " 7   TIME_3        11985 non-null  object \n",
            " 8   RE_3          11985 non-null  float64\n",
            " 9   LE_3          11985 non-null  float64\n",
            " 10  TIME_4        1530 non-null   object \n",
            " 11  RE_4          1530 non-null   float64\n",
            " 12  LE_4          1530 non-null   float64\n",
            " 13  TIME_5        255 non-null    object \n",
            " 14  RE_5          255 non-null    float64\n",
            " 15  LE_5          255 non-null    float64\n",
            " 16  date          85680 non-null  object \n",
            " 17  age_years     85680 non-null  int64  \n",
            " 18  sex           85680 non-null  object \n",
            " 19  diagnosis1    85680 non-null  object \n",
            " 20  diagnosis2    85680 non-null  object \n",
            " 21  diagnosis3    85680 non-null  object \n",
            " 22  va_re_logMar  80835 non-null  float64\n",
            " 23  va_le_logMar  80835 non-null  float64\n",
            " 24  unilateral    85680 non-null  object \n",
            " 25  rep_record    85680 non-null  object \n",
            " 26  comments      85680 non-null  object \n",
            "dtypes: float64(12), int64(2), object(13)\n",
            "memory usage: 17.6+ MB\n",
            "None\n",
            "\n",
            "Estadísticas de las mediciones:\n",
            "               RE_1          LE_1     id_record          RE_2          LE_2  \\\n",
            "count  85680.000000  85680.000000  85680.000000  73185.000000  73185.000000   \n",
            "mean      -0.453534     -0.237412    168.500000     -0.443454     -0.223924   \n",
            "std        2.602957      2.937047     96.994982      2.587308      2.645059   \n",
            "min      -17.700000    -27.900000      1.000000    -16.200000    -12.600000   \n",
            "25%       -1.800000     -1.600000     84.750000     -1.600000     -1.500000   \n",
            "50%       -0.300000     -0.100000    168.500000     -0.300000     -0.100000   \n",
            "75%        0.700000      1.000000    252.250000      0.700000      0.900000   \n",
            "max       15.000000     32.900000    336.000000     21.100000     22.200000   \n",
            "\n",
            "               RE_3          LE_3         RE_4         LE_4        RE_5  \\\n",
            "count  11985.000000  11985.000000  1530.000000  1530.000000  255.000000   \n",
            "mean      -0.128519     -0.092491     0.363922    -0.808562   -1.102745   \n",
            "std        2.483767      2.212995     2.129092     1.860757    1.246930   \n",
            "min       -9.900000     -6.900000    -5.100000    -6.500000   -3.000000   \n",
            "25%       -1.400000     -1.400000    -0.700000    -1.500000   -2.300000   \n",
            "50%        0.000000      0.000000     0.500000    -0.500000   -0.900000   \n",
            "75%        1.100000      1.200000     2.100000     0.400000    0.000000   \n",
            "max       12.300000      8.300000     4.200000     2.500000    1.400000   \n",
            "\n",
            "             LE_5     age_years  va_re_logMar  va_le_logMar  \n",
            "count  255.000000  85680.000000  80835.000000  80835.000000  \n",
            "mean    -0.964314     37.071429      0.339464      0.320126  \n",
            "std      1.231933     18.257059      0.546117      0.501120  \n",
            "min     -3.400000      4.000000     -0.100000     -0.100000  \n",
            "25%     -2.100000     21.000000      0.000000      0.000000  \n",
            "50%     -0.400000     38.000000      0.160000      0.140000  \n",
            "75%      0.000000     51.000000      0.500000      0.480000  \n",
            "max      1.100000     86.000000      3.000000      3.000000  \n"
          ]
        }
      ]
    },
    {
      "cell_type": "markdown",
      "source": [
        "🚀 Vamos a construir un modelo de clasificación para predecir diagnosis1 con base en las mediciones PERG y los datos clínicos\n"
      ],
      "metadata": {
        "id": "Nz_KMV6VtgWk"
      }
    },
    {
      "cell_type": "markdown",
      "source": [
        "🔹 📍 ¿Qué es un modelo de clasificación en Machine Learning?\n",
        "\n",
        "✅ Un modelo de clasificación es un algoritmo que aprende a asignar etiquetas a datos nuevos, basándose en patrones encontrados en datos previos.\n",
        "\n",
        "✅ En nuestro caso, el modelo analizará las mediciones PERG (RE_1, LE_1, RE_2, etc.) junto con variables clínicas (age_years, va_re_logMar, etc.) para predecir el diagnóstico (diagnosis1).\n",
        "\n",
        "✅ La meta es que, dado un nuevo paciente con sus mediciones, el modelo pueda decir qué diagnóstico es más probable.\n"
      ],
      "metadata": {
        "id": "tvf1Zx-IuCF0"
      }
    },
    {
      "cell_type": "markdown",
      "source": [
        "# ✅ La meta es que, dado un nuevo paciente con sus mediciones, el modelo pueda decir qué diagnóstico es más probable."
      ],
      "metadata": {
        "id": "M3vwlQNzyD0O"
      }
    },
    {
      "cell_type": "markdown",
      "source": [
        "🔹 📍 Tipos de modelos de clasificación\n",
        "Existen muchos algoritmos de clasificación, pero aquí hay algunos populares:\n",
        "\n",
        "📌 Random Forest → Usa múltiples árboles de decisión para mejorar la precisión.\n",
        "\n",
        "📌 Red Neuronal Artificial (MLP) → Aprende patrones en datos complejos, similar a cómo lo hace el cerebro humano.\n",
        "\n",
        "📌 Regresión Logística → Modelo estadístico simple pero efectivo para problemas binarios o multinivel.\n",
        "\n",
        "📌 K-Nearest Neighbors (KNN) → Predice en función de los datos más cercanos en el espacio de características.\n",
        "\n",
        "📌 Support Vector Machines (SVM) → Encuentra la mejor separación entre clases con hiperplanos en dimensiones múltiples.\n"
      ],
      "metadata": {
        "id": "mTtJXlEtuO09"
      }
    },
    {
      "cell_type": "markdown",
      "source": [
        "🔹 📍 ¿Cómo funciona el aprendizaje en un modelo de clasificación?\n",
        "\n",
        "🔹 Fase de entrenamiento:\n",
        "\n",
        "✅ Se le dan datos etiquetados al modelo (X_train con mediciones + y_train con diagnosis1).\n",
        "\n",
        "✅ El modelo encuentra patrones en los datos y ajusta sus parámetros internos.\n",
        "\n",
        "🔹 Fase de predicción:\n",
        "\n",
        "✅ Con nuevos datos (X_test), el modelo usa lo aprendido para asignar un diagnóstico (y_pred).\n",
        "\n",
        "✅ Se compara con los valores reales (y_test) y se mide la precisión del modelo.\n",
        "\n",
        "🔹 Evaluación del modelo:\n",
        "\n",
        "✅ Se usan métricas como accuracy, precision, recall y F1-score para medir su desempeño.\n",
        "\n",
        "✅ También podemos usar una matriz de confusión para ver cuántas predicciones fueron correctas o incorrectas.\n"
      ],
      "metadata": {
        "id": "G1LWrdeSujlY"
      }
    },
    {
      "cell_type": "markdown",
      "source": [
        "🔹 📍 ¿Cuál usamos en este proyecto?\n",
        "\n",
        "📌 Random Forest es una gran opción inicial porque es preciso, fácil de interpretar y funciona bien con datos tabulares.\n"
      ],
      "metadata": {
        "id": "SDk3qmmHu0-0"
      }
    },
    {
      "cell_type": "markdown",
      "source": [
        "🔹 📍 Código para preparar los datos\n"
      ],
      "metadata": {
        "id": "NNVHqnv2tonn"
      }
    },
    {
      "cell_type": "code",
      "source": [
        "from sklearn.model_selection import train_test_split\n",
        "from sklearn.preprocessing import LabelEncoder, StandardScaler\n",
        "\n",
        "# Selección de características y etiquetas\n",
        "features = [\"RE_1\", \"LE_1\", \"RE_2\", \"LE_2\", \"age_years\", \"va_re_logMar\", \"va_le_logMar\"]\n",
        "X = df_completo[features]  # Variables predictoras\n",
        "y = df_completo[\"diagnosis1\"]  # Etiqueta de clasificación\n",
        "\n",
        "# Codificación de etiquetas\n",
        "label_encoder = LabelEncoder()\n",
        "y_encoded = label_encoder.fit_transform(y)\n",
        "\n",
        "# División en entrenamiento y prueba\n",
        "X_train, X_test, y_train, y_test = train_test_split(X, y_encoded, test_size=0.2, random_state=42)\n",
        "\n",
        "# Normalización de las características\n",
        "scaler = StandardScaler()\n",
        "X_train_scaled = scaler.fit_transform(X_train)\n",
        "X_test_scaled = scaler.transform(X_test)\n",
        "\n",
        "print(\"Datos listos para el entrenamiento del modelo de clasificación!\")\n",
        "print(\"Shape de X_train:\", X_train_scaled.shape)\n",
        "print(\"Shape de X_test:\", X_test_scaled.shape)"
      ],
      "metadata": {
        "colab": {
          "base_uri": "https://localhost:8080/"
        },
        "id": "bCwhGWAPtiSg",
        "outputId": "4bbba497-2d63-436d-c64a-e817a394f59c"
      },
      "execution_count": null,
      "outputs": [
        {
          "output_type": "stream",
          "name": "stdout",
          "text": [
            "Datos listos para el entrenamiento del modelo de clasificación!\n",
            "Shape de X_train: (68544, 7)\n",
            "Shape de X_test: (17136, 7)\n"
          ]
        }
      ]
    },
    {
      "cell_type": "markdown",
      "source": [],
      "metadata": {
        "id": "ZvKGlpeusJj-"
      }
    },
    {
      "source": [
        "from google.colab import sheets\n",
        "sheet = sheets.InteractiveSheet(df=df)"
      ],
      "cell_type": "code",
      "execution_count": null,
      "outputs": [
        {
          "output_type": "stream",
          "name": "stdout",
          "text": [
            "https://docs.google.com/spreadsheets/d/1POr7FjuJftnuDVPImcqKuV6SKbVxznr4Y8g79OG1Ly0/edit#gid=0\n"
          ]
        },
        {
          "output_type": "display_data",
          "data": {
            "text/plain": [
              "<IPython.lib.display.IFrame at 0x7c9857068d50>"
            ],
            "text/html": [
              "\n",
              "        <iframe\n",
              "            width=\"100%\"\n",
              "            height=\"600\"\n",
              "            src=\"https://docs.google.com/spreadsheets/d/1POr7FjuJftnuDVPImcqKuV6SKbVxznr4Y8g79OG1Ly0/edit?rm=embedded#gid=0\"\n",
              "            frameborder=\"0\"\n",
              "            allowfullscreen\n",
              "            \n",
              "        ></iframe>\n",
              "        "
            ]
          },
          "metadata": {}
        }
      ],
      "metadata": {
        "cellView": "form",
        "colab": {
          "base_uri": "https://localhost:8080/",
          "height": 639
        },
        "id": "TaETCegs-CZE",
        "outputId": "65bd074f-5554-47d3-e051-7fa870207fe4"
      }
    }
  ]
}