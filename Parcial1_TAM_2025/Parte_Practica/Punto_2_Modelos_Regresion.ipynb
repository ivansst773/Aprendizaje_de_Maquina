{
  "nbformat": 4,
  "nbformat_minor": 0,
  "metadata": {
    "colab": {
      "provenance": []
    },
    "kernelspec": {
      "name": "python3",
      "display_name": "Python 3"
    },
    "language_info": {
      "name": "python"
    }
  },
  "cells": [
    {
      "cell_type": "markdown",
      "source": [
        "# 📊 Parcial 1 TAM 2025-1 – Pregunta 2\n",
        "**Nombre:** Edgar Ivan Calpa Cuacialpud  \n",
        "**Universidad Nacional de Colombia - Sede Manizales**\n",
        "\n",
        "---\n",
        "\n",
        "## 🧩 1. Cargar datos y bibliotecas\n",
        "## 🔍 2. Análisis exploratorio y limpieza\n",
        "## 🧼 3. Preprocesamiento\n",
        "## 📦 4. Modelado base (Lasso como ejemplo)\n",
        "## 🔁 5. Replicación para otros modelos\n",
        "## 📈 6. Tabla de comparación de resultados\n",
        "## 🧠 7. Conclusiones\n",
        "\n"
      ],
      "metadata": {
        "id": "pKo3qGBPu4zS"
      }
    },
    {
      "cell_type": "markdown",
      "source": [
        "Código completo para un modelo: Lasso con GridSearchCV"
      ],
      "metadata": {
        "id": "nmyGucnivV_0"
      }
    },
    {
      "cell_type": "code",
      "execution_count": null,
      "metadata": {
        "colab": {
          "base_uri": "https://localhost:8080/"
        },
        "id": "cpded6hluTsL",
        "outputId": "35fe0c55-9474-4303-f363-e09fd9bd4390"
      },
      "outputs": [
        {
          "output_type": "stream",
          "name": "stdout",
          "text": [
            "📊 Resultados con Lasso:\n",
            "Mejor alpha: 10.0\n",
            "MAE:  16025.79\n",
            "MSE:  823773334.65\n",
            "R2:   0.8973\n",
            "MAPE: 8.71%\n"
          ]
        }
      ],
      "source": [
        "# 1. Cargar librerías\n",
        "import numpy as np\n",
        "import pandas as pd\n",
        "import seaborn as sns\n",
        "import matplotlib.pyplot as plt\n",
        "\n",
        "from sklearn.model_selection import train_test_split, GridSearchCV\n",
        "from sklearn.linear_model import Lasso\n",
        "from sklearn.pipeline import Pipeline\n",
        "from sklearn.compose import ColumnTransformer\n",
        "from sklearn.preprocessing import StandardScaler, OneHotEncoder\n",
        "from sklearn.metrics import mean_absolute_error, mean_squared_error, r2_score\n",
        "\n",
        "# 2. Cargar datos (ya subiste el CSV desde Kaggle a Colab)\n",
        "df = pd.read_csv(\"/content/sample_data/AmesHousing.csv\")  # Ajusta si tu archivo tiene otro nombre\n",
        "\n",
        "# 3. Eliminar columnas con demasiados valores nulos (opcional)\n",
        "null_percent = df.isnull().mean()\n",
        "df = df.drop(columns=null_percent[null_percent > 0.3].index)\n",
        "\n",
        "# 4. Imputar valores nulos básicos (simplificado, podrías mejorar con KNN u otros)\n",
        "df = df.fillna(df.median(numeric_only=True))  # Para numéricos\n",
        "df = df.fillna(\"Missing\")                     # Para categóricos\n",
        "\n",
        "# 5. Separar entrada y salida\n",
        "X = df.drop(columns=['SalePrice'])\n",
        "y = df['SalePrice']\n",
        "\n",
        "# 6. Separar variables numéricas y categóricas\n",
        "num_features = X.select_dtypes(include=['int64', 'float64']).columns.tolist()\n",
        "cat_features = X.select_dtypes(include=['object']).columns.tolist()\n",
        "\n",
        "# 7. Separar entrenamiento y prueba (evita data leakage)\n",
        "X_train, X_test, y_train, y_test = train_test_split(X, y, test_size=0.2, random_state=42)\n",
        "\n",
        "# 8. Preprocesamiento con ColumnTransformer\n",
        "preprocessor = ColumnTransformer([\n",
        "    ('num', StandardScaler(), num_features),\n",
        "    ('cat', OneHotEncoder(handle_unknown='ignore'), cat_features)\n",
        "])\n",
        "\n",
        "# 9. Pipeline con modelo Lasso\n",
        "pipeline = Pipeline([\n",
        "    ('preprocess', preprocessor),\n",
        "    ('model', Lasso(max_iter=10000))  # Aumentamos iteraciones para evitar advertencias\n",
        "])\n",
        "\n",
        "# 10. Definir espacio de búsqueda\n",
        "param_grid = {\n",
        "    'model__alpha': [0.0001, 0.001, 0.01, 0.1, 1.0, 10.0]\n",
        "}\n",
        "\n",
        "# 11. GridSearchCV con validación cruzada\n",
        "grid = GridSearchCV(pipeline, param_grid, cv=5, scoring='neg_mean_squared_error', n_jobs=-1)\n",
        "grid.fit(X_train, y_train)\n",
        "\n",
        "# 12. Evaluar en datos de prueba\n",
        "best_model = grid.best_estimator_\n",
        "y_pred = best_model.predict(X_test)\n",
        "\n",
        "mae = mean_absolute_error(y_test, y_pred)\n",
        "mse = mean_squared_error(y_test, y_pred)\n",
        "r2 = r2_score(y_test, y_pred)\n",
        "mape = np.mean(np.abs((y_test - y_pred) / y_test)) * 100\n",
        "\n",
        "print(\"📊 Resultados con Lasso:\")\n",
        "print(f\"Mejor alpha: {grid.best_params_['model__alpha']}\")\n",
        "print(f\"MAE:  {mae:.2f}\")\n",
        "print(f\"MSE:  {mse:.2f}\")\n",
        "print(f\"R2:   {r2:.4f}\")\n",
        "print(f\"MAPE: {mape:.2f}%\")\n"
      ]
    },
    {
      "cell_type": "markdown",
      "source": [
        "\n",
        "🧩 CÓDIGO ADAPTADO – RandomForestRegressor\n"
      ],
      "metadata": {
        "id": "5GX--heE0mej"
      }
    },
    {
      "cell_type": "code",
      "source": [
        "from sklearn.ensemble import RandomForestRegressor\n",
        "\n",
        "# Pipeline con Random Forest\n",
        "pipeline_rf = Pipeline([\n",
        "    ('preprocess', preprocessor),\n",
        "    ('model', RandomForestRegressor(random_state=42))\n",
        "])\n",
        "\n",
        "# Espacio de búsqueda para hiperparámetros\n",
        "param_grid_rf = {\n",
        "    'model__n_estimators': [100],\n",
        "    'model__max_depth': [10, None],\n",
        "    'model__min_samples_split': [2],\n",
        "    'model__min_samples_leaf': [1]\n",
        "}\n",
        "\n",
        "# GridSearchCV\n",
        "grid_rf = GridSearchCV(pipeline_rf, param_grid_rf, cv=5, scoring='neg_mean_squared_error', n_jobs=-1)\n",
        "grid_rf.fit(X_train, y_train)\n",
        "\n",
        "# Evaluación\n",
        "best_rf = grid_rf.best_estimator_\n",
        "y_pred_rf = best_rf.predict(X_test)\n",
        "\n",
        "mae_rf = mean_absolute_error(y_test, y_pred_rf)\n",
        "mse_rf = mean_squared_error(y_test, y_pred_rf)\n",
        "r2_rf = r2_score(y_test, y_pred_rf)\n",
        "mape_rf = np.mean(np.abs((y_test - y_pred_rf) / y_test)) * 100\n",
        "\n",
        "print(\"🌲 Resultados con Random Forest:\")\n",
        "print(f\"Mejores hiperparámetros: {grid_rf.best_params_}\")\n",
        "print(f\"MAE:  {mae_rf:.2f}\")\n",
        "print(f\"MSE:  {mse_rf:.2f}\")\n",
        "print(f\"R2:   {r2_rf:.4f}\")\n",
        "print(f\"MAPE: {mape_rf:.2f}%\")\n"
      ],
      "metadata": {
        "colab": {
          "base_uri": "https://localhost:8080/"
        },
        "id": "P4jdOZv50sBs",
        "outputId": "bfe1fca9-70b4-48fc-a354-a54e93bb0c38"
      },
      "execution_count": null,
      "outputs": [
        {
          "output_type": "stream",
          "name": "stdout",
          "text": [
            "🌲 Resultados con Random Forest:\n",
            "Mejores hiperparámetros: {'model__max_depth': None, 'model__min_samples_leaf': 1, 'model__min_samples_split': 2, 'model__n_estimators': 100}\n",
            "MAE:  15895.48\n",
            "MSE:  698050695.01\n",
            "R2:   0.9129\n",
            "MAPE: 8.56%\n"
          ]
        }
      ]
    },
    {
      "cell_type": "markdown",
      "source": [
        "MODELO 3: SVR (Support Vector Regression)\n",
        "El SVR requiere que los datos estén bien escalados, lo cual ya estás haciendo con StandardScaler en el pipeline. Vamos a definir un espacio de búsqueda para C, gamma y epsilon, que son los hiperparámetros más relevantes en SVR."
      ],
      "metadata": {
        "id": "fZAchO3N8NHm"
      }
    },
    {
      "cell_type": "code",
      "source": [
        "from sklearn.svm import SVR\n",
        "\n",
        "# Pipeline con SVR\n",
        "pipeline_svr = Pipeline([\n",
        "    ('preprocess', preprocessor),\n",
        "    ('model', SVR())\n",
        "])\n",
        "\n",
        "# Espacio de búsqueda\n",
        "param_grid_svr = {\n",
        "    'model__C': [0.1, 1, 10],\n",
        "    'model__gamma': ['scale', 0.01, 0.001],\n",
        "    'model__epsilon': [0.1, 1.0]\n",
        "}\n",
        "\n",
        "# GridSearchCV\n",
        "grid_svr = GridSearchCV(pipeline_svr, param_grid_svr, cv=5, scoring='neg_mean_squared_error', n_jobs=-1)\n",
        "grid_svr.fit(X_train, y_train)\n",
        "\n",
        "# Evaluación\n",
        "best_svr = grid_svr.best_estimator_\n",
        "y_pred_svr = best_svr.predict(X_test)\n",
        "\n",
        "mae_svr = mean_absolute_error(y_test, y_pred_svr)\n",
        "mse_svr = mean_squared_error(y_test, y_pred_svr)\n",
        "r2_svr = r2_score(y_test, y_pred_svr)\n",
        "mape_svr = np.mean(np.abs((y_test - y_pred_svr) / y_test)) * 100\n",
        "\n",
        "print(\"🔧 Resultados con SVR:\")\n",
        "print(f\"Mejores hiperparámetros: {grid_svr.best_params_}\")\n",
        "print(f\"MAE:  {mae_svr:.2f}\")\n",
        "print(f\"MSE:  {mse_svr:.2f}\")\n",
        "print(f\"R2:   {r2_svr:.4f}\")\n",
        "print(f\"MAPE: {mape_svr:.2f}%\")\n"
      ],
      "metadata": {
        "colab": {
          "base_uri": "https://localhost:8080/"
        },
        "id": "aNgnFQek5dXJ",
        "outputId": "bc916ddc-1d19-45a9-d80e-6e7d34a9ea16"
      },
      "execution_count": null,
      "outputs": [
        {
          "output_type": "stream",
          "name": "stdout",
          "text": [
            "🔧 Resultados con SVR:\n",
            "Mejores hiperparámetros: {'model__C': 10, 'model__epsilon': 0.1, 'model__gamma': 0.01}\n",
            "MAE:  62841.78\n",
            "MSE:  8716924294.03\n",
            "R2:   -0.0872\n",
            "MAPE: 32.39%\n"
          ]
        }
      ]
    },
    {
      "cell_type": "markdown",
      "source": [
        "🧩 CÓDIGO ADAPTADO – BayesianRidge"
      ],
      "metadata": {
        "id": "aLKl1pS3-iWF"
      }
    },
    {
      "cell_type": "code",
      "source": [
        "from sklearn.linear_model import BayesianRidge\n",
        "from sklearn.pipeline import Pipeline\n",
        "from sklearn.compose import ColumnTransformer\n",
        "from sklearn.preprocessing import StandardScaler, OneHotEncoder\n",
        "from sklearn.metrics import mean_absolute_error, mean_squared_error, r2_score\n",
        "\n",
        "#Actualiza el preprocesador para que la salida del OneHotEncoder sea densa (no sparse)\n",
        "preprocessor_dense = ColumnTransformer([\n",
        "    ('num', StandardScaler(), num_features),\n",
        "    ('cat', OneHotEncoder(handle_unknown='ignore', sparse_output=False), cat_features)\n",
        "])\n",
        "\n",
        "#Pipeline con Bayesian Ridge\n",
        "pipeline_br = Pipeline([\n",
        "    ('preprocess', preprocessor_dense),\n",
        "    ('model', BayesianRidge())\n",
        "])\n",
        "\n",
        "#Entrenamiento\n",
        "pipeline_br.fit(X_train, y_train)\n",
        "\n",
        "#Evaluación\n",
        "y_pred_br = pipeline_br.predict(X_test)\n",
        "\n",
        "mae_br = mean_absolute_error(y_test, y_pred_br)\n",
        "mse_br = mean_squared_error(y_test, y_pred_br)\n",
        "r2_br = r2_score(y_test, y_pred_br)\n",
        "mape_br = np.mean(np.abs((y_test - y_pred_br) / y_test)) * 100\n",
        "\n",
        "#Resultados\n",
        "print(\"Resultados con Bayesian Ridge:\")\n",
        "print(f\"MAE:  {mae_br:.2f}\")\n",
        "print(f\"MSE:  {mse_br:.2f}\")\n",
        "print(f\"R2:   {r2_br:.4f}\")\n",
        "print(f\"MAPE: {mape_br:.2f}%\")\n"
      ],
      "metadata": {
        "colab": {
          "base_uri": "https://localhost:8080/"
        },
        "id": "DURrKYbs-j9k",
        "outputId": "48537510-80d2-49a9-e895-19c02aa2a446"
      },
      "execution_count": null,
      "outputs": [
        {
          "output_type": "stream",
          "name": "stdout",
          "text": [
            "📐 Resultados con Bayesian Ridge:\n",
            "MAE:  16665.23\n",
            "MSE:  846936893.58\n",
            "R2:   0.8944\n",
            "MAPE: 8.86%\n"
          ]
        }
      ]
    },
    {
      "cell_type": "markdown",
      "source": [
        "🧩 CÓDIGO ADAPTADO – ElasticNet"
      ],
      "metadata": {
        "id": "UchYi6pPGIYV"
      }
    },
    {
      "cell_type": "code",
      "source": [
        "from sklearn.linear_model import ElasticNet\n",
        "\n",
        "# Pipeline con ElasticNet\n",
        "pipeline_en = Pipeline([\n",
        "    ('preprocess', preprocessor),\n",
        "    ('model', ElasticNet(max_iter=10000))  # para asegurar convergencia\n",
        "])\n",
        "\n",
        "# Espacio de búsqueda\n",
        "param_grid_en = {\n",
        "    'model__alpha': [0.0001, 0.001, 0.01, 0.1, 1.0],\n",
        "    'model__l1_ratio': [0.1, 0.5, 0.9]  # combina L1 y L2\n",
        "}\n",
        "\n",
        "# GridSearchCV\n",
        "grid_en = GridSearchCV(pipeline_en, param_grid_en, cv=5, scoring='neg_mean_squared_error', n_jobs=-1)\n",
        "grid_en.fit(X_train, y_train)\n",
        "\n",
        "# Evaluación\n",
        "best_en = grid_en.best_estimator_\n",
        "y_pred_en = best_en.predict(X_test)\n",
        "\n",
        "mae_en = mean_absolute_error(y_test, y_pred_en)\n",
        "mse_en = mean_squared_error(y_test, y_pred_en)\n",
        "r2_en = r2_score(y_test, y_pred_en)\n",
        "mape_en = np.mean(np.abs((y_test - y_pred_en) / y_test)) * 100\n",
        "\n",
        "print(\"🧪 Resultados con ElasticNet:\")\n",
        "print(f\"Mejores hiperparámetros: {grid_en.best_params_}\")\n",
        "print(f\"MAE:  {mae_en:.2f}\")\n",
        "print(f\"MSE:  {mse_en:.2f}\")\n",
        "print(f\"R2:   {r2_en:.4f}\")\n",
        "print(f\"MAPE: {mape_en:.2f}%\")\n"
      ],
      "metadata": {
        "colab": {
          "base_uri": "https://localhost:8080/"
        },
        "id": "NDkkVVrWER2O",
        "outputId": "c381179f-178f-4261-83e2-6400e3881a89"
      },
      "execution_count": null,
      "outputs": [
        {
          "output_type": "stream",
          "name": "stdout",
          "text": [
            "🧪 Resultados con ElasticNet:\n",
            "Mejores hiperparámetros: {'model__alpha': 0.01, 'model__l1_ratio': 0.5}\n",
            "MAE:  16616.11\n",
            "MSE:  846759063.81\n",
            "R2:   0.8944\n",
            "MAPE: 8.82%\n"
          ]
        }
      ]
    },
    {
      "cell_type": "markdown",
      "source": [
        "🧩 CÓDIGO – LinearRegression\n",
        "\n",
        "LinearRegression (Regresión Lineal Simple)\n",
        "Este modelo no requiere hiperparámetros ni validación cruzada compleja. Solo usamos el pipeline con preprocesamiento y entrenamos directamente."
      ],
      "metadata": {
        "id": "i2Dgou-WIpg-"
      }
    },
    {
      "cell_type": "code",
      "source": [
        "from sklearn.linear_model import LinearRegression\n",
        "\n",
        "# Pipeline con regresión lineal\n",
        "pipeline_lr = Pipeline([\n",
        "    ('preprocess', preprocessor),\n",
        "    ('model', LinearRegression())\n",
        "])\n",
        "\n",
        "# Entrenamiento\n",
        "pipeline_lr.fit(X_train, y_train)\n",
        "\n",
        "# Evaluación\n",
        "y_pred_lr = pipeline_lr.predict(X_test)\n",
        "\n",
        "mae_lr = mean_absolute_error(y_test, y_pred_lr)\n",
        "mse_lr = mean_squared_error(y_test, y_pred_lr)\n",
        "r2_lr = r2_score(y_test, y_pred_lr)\n",
        "mape_lr = np.mean(np.abs((y_test - y_pred_lr) / y_test)) * 100\n",
        "\n",
        "print(\"📏 Resultados con Linear Regression:\")\n",
        "print(f\"MAE:  {mae_lr:.2f}\")\n",
        "print(f\"MSE:  {mse_lr:.2f}\")\n",
        "print(f\"R2:   {r2_lr:.4f}\")\n",
        "print(f\"MAPE: {mape_lr:.2f}%\")\n"
      ],
      "metadata": {
        "id": "RMGdeGWaIvi6",
        "colab": {
          "base_uri": "https://localhost:8080/"
        },
        "outputId": "4b42c24b-20a3-4161-89ad-bae6718ccd5c"
      },
      "execution_count": null,
      "outputs": [
        {
          "output_type": "stream",
          "name": "stdout",
          "text": [
            "📏 Resultados con Linear Regression:\n",
            "MAE:  16360.42\n",
            "MSE:  850872789.23\n",
            "R2:   0.8939\n",
            "MAPE: 9.24%\n"
          ]
        }
      ]
    },
    {
      "cell_type": "markdown",
      "source": [
        "🧩KernelRidge con validación cruzada\n",
        "Hiperparámetros clave:\n",
        "alpha: regularización (igual que en Ridge)\n",
        "\n",
        "kernel: tipo de kernel ('linear', 'poly', 'rbf', etc.)\n",
        "\n",
        "gamma: parámetro del kernel RBF"
      ],
      "metadata": {
        "id": "uKt0KIxeK8Ci"
      }
    },
    {
      "cell_type": "code",
      "source": [
        "from sklearn.kernel_ridge import KernelRidge\n",
        "\n",
        "# Pipeline con Kernel Ridge\n",
        "pipeline_kr = Pipeline([\n",
        "    ('preprocess', preprocessor),\n",
        "    ('model', KernelRidge())\n",
        "])\n",
        "\n",
        "# Espacio de búsqueda\n",
        "param_grid_kr = {\n",
        "    'model__alpha': [0.01, 0.1, 1.0],\n",
        "    'model__kernel': ['linear', 'rbf'],\n",
        "    'model__gamma': [0.01, 0.1, 1.0]  # solo se usa con 'rbf'\n",
        "}\n",
        "\n",
        "# GridSearchCV\n",
        "grid_kr = GridSearchCV(pipeline_kr, param_grid_kr, cv=5, scoring='neg_mean_squared_error', n_jobs=-1)\n",
        "grid_kr.fit(X_train, y_train)\n",
        "\n",
        "# Evaluación\n",
        "best_kr = grid_kr.best_estimator_\n",
        "y_pred_kr = best_kr.predict(X_test)\n",
        "\n",
        "mae_kr = mean_absolute_error(y_test, y_pred_kr)\n",
        "mse_kr = mean_squared_error(y_test, y_pred_kr)\n",
        "r2_kr = r2_score(y_test, y_pred_kr)\n",
        "mape_kr = np.mean(np.abs((y_test - y_pred_kr) / y_test)) * 100\n",
        "\n",
        "print(\"💠 Resultados con Kernel Ridge:\")\n",
        "print(f\"Mejores hiperparámetros: {grid_kr.best_params_}\")\n",
        "print(f\"MAE:  {mae_kr:.2f}\")\n",
        "print(f\"MSE:  {mse_kr:.2f}\")\n",
        "print(f\"R2:   {r2_kr:.4f}\")\n",
        "print(f\"MAPE: {mape_kr:.2f}%\")\n"
      ],
      "metadata": {
        "colab": {
          "base_uri": "https://localhost:8080/"
        },
        "id": "9eigzFStK9oD",
        "outputId": "98013c50-23bb-4a33-966a-5c1e4b5196c2"
      },
      "execution_count": null,
      "outputs": [
        {
          "output_type": "stream",
          "name": "stdout",
          "text": [
            "💠 Resultados con Kernel Ridge:\n",
            "Mejores hiperparámetros: {'model__alpha': 1.0, 'model__gamma': 0.01, 'model__kernel': 'linear'}\n",
            "MAE:  16528.96\n",
            "MSE:  840916628.10\n",
            "R2:   0.8951\n",
            "MAPE: 8.91%\n"
          ]
        }
      ]
    },
    {
      "cell_type": "markdown",
      "source": [
        "GaussianProcessRegressor\n",
        "\n",
        "Consideraciones:\n",
        "No escala bien con muchos datos (pero Ames Housing está en un rango manejable).\n",
        "\n",
        "Solo acepta matrices densas, así que como hicimos con BayesianRidge, usaremos un OneHotEncoder con sparse_output=False.\n",
        "\n",
        "El kernel más común y flexible es el RBF, combinado con WhiteKernel para el ruido."
      ],
      "metadata": {
        "id": "cr5pLZj3L3Sa"
      }
    },
    {
      "cell_type": "code",
      "source": [
        "from sklearn.gaussian_process import GaussianProcessRegressor\n",
        "from sklearn.gaussian_process.kernels import RBF, ConstantKernel as C, WhiteKernel\n",
        "\n",
        "#Usar preprocesador que genere salida densa\n",
        "preprocessor_dense = ColumnTransformer([\n",
        "    ('num', StandardScaler(), num_features),\n",
        "    ('cat', OneHotEncoder(handle_unknown='ignore', sparse_output=False), cat_features)\n",
        "])\n",
        "\n",
        "#Definir kernel: constante * RBF + ruido\n",
        "kernel = C(1.0, (1e-3, 1e3)) * RBF(length_scale=1.0, length_scale_bounds=(1e-2, 1e2)) + WhiteKernel()\n",
        "\n",
        "#Pipeline\n",
        "pipeline_gpr = Pipeline([\n",
        "    ('preprocess', preprocessor_dense),\n",
        "    ('model', GaussianProcessRegressor(kernel=kernel, alpha=0.0, normalize_y=True))\n",
        "])\n",
        "\n",
        "#Entrenamiento\n",
        "pipeline_gpr.fit(X_train, y_train)\n",
        "\n",
        "#Predicción\n",
        "y_pred_gpr = pipeline_gpr.predict(X_test)\n",
        "\n",
        "#Evaluación\n",
        "mae_gpr = mean_absolute_error(y_test, y_pred_gpr)\n",
        "mse_gpr = mean_squared_error(y_test, y_pred_gpr)\n",
        "r2_gpr = r2_score(y_test, y_pred_gpr)\n",
        "mape_gpr = np.mean(np.abs((y_test - y_pred_gpr) / y_test)) * 100\n",
        "\n",
        "print(\"📈 Resultados con Gaussian Process Regressor:\")\n",
        "print(f\"MAE:  {mae_gpr:.2f}\")\n",
        "print(f\"MSE:  {mse_gpr:.2f}\")\n",
        "print(f\"R2:   {r2_gpr:.4f}\")\n",
        "print(f\"MAPE: {mape_gpr:.2f}%\")\n"
      ],
      "metadata": {
        "colab": {
          "base_uri": "https://localhost:8080/"
        },
        "id": "BJNFBg71L46O",
        "outputId": "6e58069a-ae64-470a-acb8-f5496483e1e2"
      },
      "execution_count": null,
      "outputs": [
        {
          "output_type": "stream",
          "name": "stdout",
          "text": [
            "📈 Resultados con Gaussian Process Regressor:\n",
            "MAE:  13528.09\n",
            "MSE:  879248832.48\n",
            "R2:   0.8903\n",
            "MAPE: 7.41%\n"
          ]
        }
      ]
    },
    {
      "cell_type": "markdown",
      "source": [
        "| Modelo                | MAE       | MSE               | R²      | MAPE     | Hiperparámetros principales                    |\n",
        "|-----------------------|-----------|-------------------|---------|----------|-----------------------------------------------|\n",
        "| **Lasso**             | 16,025.79 | 823,773,334.65    | 0.8973  | 8.71%    | alpha=10.0                                 |\n",
        "| **Random Forest**     | 15,895.48 | 698,050,695.01    | 0.9129  | 8.56%    | n_estimators=100, max_depth=None, min_samples_split=2, min_samples_leaf=1 |\n",
        "| **SVR**              | 62,841.78 | 8,716,924,294.03  | -0.0872 | 32.39%   | C=10, gamma=0.01, epsilon=0.1          |\n",
        "| **Bayesian Ridge**   | 16,665.23 | 846,936,893.58    | 0.8944  | 8.86%    | —                                           |\n",
        "| **ElasticNet**       | 16,616.11 | 846,759,063.81    | 0.8944  | 8.82%    | alpha=0.01, l1_ratio=0.5                |\n",
        "| **Linear Regression**| 16,360.42 | 850,872,789.23    | 0.8939  | 9.24%    | —                                           |\n",
        "| **Kernel Ridge**     | 16,528.96 | 840,916,628.10    | 0.8951  | 8.91%    | alpha=1.0, kernel='linear', gamma=0.01|\n",
        "| **Gaussian Process** | **13,528.09** | 879,248,832.48 | 0.8903  | **7.41%**| kernel=RBF + WhiteKernel, normalize_y=True |"
      ],
      "metadata": {
        "id": "T_lWiehORCrs"
      }
    },
    {
      "cell_type": "code",
      "source": [],
      "metadata": {
        "id": "GSabvzRHR4s6"
      },
      "execution_count": null,
      "outputs": []
    }
  ]
}